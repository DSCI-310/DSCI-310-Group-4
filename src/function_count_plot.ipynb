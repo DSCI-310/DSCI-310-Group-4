{
 "cells": [
  {
   "cell_type": "code",
   "execution_count": null,
   "id": "07ee467f-ac77-42c1-80be-26576b34293b",
   "metadata": {},
   "outputs": [],
   "source": [
    "# ' Plot a Countplots\n",
    "# '\n",
    "# 'Creates countplots for data frame with all the given x and y values, \n",
    "# '\n",
    "# ' @param A data frame with all the values of which we want the countplots \n",
    "# ' @param array of list of numbers which represents the different payments for x-values\n",
    "# ' @param array a list of numbers which represents the default payment for y-values\n",
    "# ' @param string the name of the plot\n",
    "# '\n",
    "# ' @return An plot of the counts between two parameters of the given data frame.\n",
    "# '         The plot should have a x label, a y label and a title.\n",
    "# '\n",
    "# ' @export\n",
    "# '\n",
    "# ' @examples\n",
    "# ' count_plot(train_df, x, y, \"Count plot\")"
   ]
  }
 ],
 "metadata": {
  "kernelspec": {
   "display_name": "Python 3",
   "language": "python",
   "name": "python3"
  },
  "language_info": {
   "codemirror_mode": {
    "name": "ipython",
    "version": 3
   },
   "file_extension": ".py",
   "mimetype": "text/x-python",
   "name": "python",
   "nbconvert_exporter": "python",
   "pygments_lexer": "ipython3",
   "version": "3.9.5"
  }
 },
 "nbformat": 4,
 "nbformat_minor": 5
}
