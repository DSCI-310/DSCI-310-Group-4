{
 "cells": [
  {
   "cell_type": "code",
   "execution_count": null,
   "id": "4b8f5cc5-58e3-422e-b651-2ed21829894c",
   "metadata": {},
   "outputs": [],
   "source": [
    "#' Carry out Hyperparameter optimization\n",
    "#'\n",
    "#' Carry out Hyperparameter optimization to find the best value of C.\n",
    "#' Cross-validation to see how the model perfomance, returning a performance matrix.\n",
    "#'\n",
    "#' @param array of list of number for C\n",
    "#' @param data frame of X training data for cross validation\n",
    "#' @param data frame of Y training data for cross validation\n",
    "#'\n",
    "#' @return A data frame with three columns(or a performance matrix). \n",
    "#'   The first column (named C) lists the values of C from the input data frame.\n",
    "#'   The second column (named Train Score) lists the .\n",
    "#'   The third column (named CV Score) lists the   \n",
    "#'\n",
    "#' @export\n",
    "#'\n",
    "#' @examples\n",
    "#' hyperparameter_optimization(C,x_train,y_train)\n",
    "\n"
   ]
  }
 ],
 "metadata": {
  "kernelspec": {
   "display_name": "Python 3",
   "language": "python",
   "name": "python3"
  },
  "language_info": {
   "codemirror_mode": {
    "name": "ipython",
    "version": 3
   },
   "file_extension": ".py",
   "mimetype": "text/x-python",
   "name": "python",
   "nbconvert_exporter": "python",
   "pygments_lexer": "ipython3",
   "version": "3.9.5"
  }
 },
 "nbformat": 4,
 "nbformat_minor": 5
}
