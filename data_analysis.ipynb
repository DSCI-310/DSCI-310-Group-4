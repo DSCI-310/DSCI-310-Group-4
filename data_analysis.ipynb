{
 "cells": [
  {
   "cell_type": "code",
   "execution_count": 1,
   "id": "e21758e7-fcb7-402a-9a67-b8f1d1b9d126",
   "metadata": {},
   "outputs": [],
   "source": [
    "import os\n",
    "\n",
    "%matplotlib inline\n",
    "import sys\n",
    "\n",
    "import matplotlib.pyplot as plt\n",
    "import numpy as np\n",
    "import pandas as pd\n",
    "import seaborn as sns\n",
    "import xgboost as xgb\n",
    "from sklearn.compose import ColumnTransformer, make_column_transformer\n",
    "from sklearn.dummy import DummyClassifier\n",
    "from sklearn.ensemble import RandomForestClassifier\n",
    "from sklearn.impute import SimpleImputer\n",
    "from sklearn.linear_model import LogisticRegression\n",
    "from sklearn.metrics import (\n",
    "    classification_report,\n",
    "    confusion_matrix,\n",
    "    f1_score,\n",
    "    make_scorer,\n",
    "    plot_confusion_matrix,\n",
    ")\n",
    "from sklearn.model_selection import (\n",
    "    GridSearchCV,\n",
    "    RandomizedSearchCV,\n",
    "    cross_val_score,\n",
    "    cross_validate,\n",
    "    train_test_split,\n",
    ")\n",
    "from sklearn.pipeline import Pipeline, make_pipeline\n",
    "from sklearn.preprocessing import OneHotEncoder, OrdinalEncoder, StandardScaler\n",
    "from sklearn.svm import SVC\n",
    "import random"
   ]
  },
  {
   "cell_type": "code",
   "execution_count": 2,
   "id": "696e192a-37a3-4335-afba-35a800eaff7f",
   "metadata": {},
   "outputs": [
    {
     "name": "stdout",
     "output_type": "stream",
     "text": [
      "<class 'pandas.core.frame.DataFrame'>\n",
      "RangeIndex: 30000 entries, 0 to 29999\n",
      "Data columns (total 25 columns):\n",
      " #   Column                      Non-Null Count  Dtype\n",
      "---  ------                      --------------  -----\n",
      " 0   ID                          30000 non-null  int64\n",
      " 1   LIMIT_BAL                   30000 non-null  int64\n",
      " 2   SEX                         30000 non-null  int64\n",
      " 3   EDUCATION                   30000 non-null  int64\n",
      " 4   MARRIAGE                    30000 non-null  int64\n",
      " 5   AGE                         30000 non-null  int64\n",
      " 6   PAY_0                       30000 non-null  int64\n",
      " 7   PAY_2                       30000 non-null  int64\n",
      " 8   PAY_3                       30000 non-null  int64\n",
      " 9   PAY_4                       30000 non-null  int64\n",
      " 10  PAY_5                       30000 non-null  int64\n",
      " 11  PAY_6                       30000 non-null  int64\n",
      " 12  BILL_AMT1                   30000 non-null  int64\n",
      " 13  BILL_AMT2                   30000 non-null  int64\n",
      " 14  BILL_AMT3                   30000 non-null  int64\n",
      " 15  BILL_AMT4                   30000 non-null  int64\n",
      " 16  BILL_AMT5                   30000 non-null  int64\n",
      " 17  BILL_AMT6                   30000 non-null  int64\n",
      " 18  PAY_AMT1                    30000 non-null  int64\n",
      " 19  PAY_AMT2                    30000 non-null  int64\n",
      " 20  PAY_AMT3                    30000 non-null  int64\n",
      " 21  PAY_AMT4                    30000 non-null  int64\n",
      " 22  PAY_AMT5                    30000 non-null  int64\n",
      " 23  PAY_AMT6                    30000 non-null  int64\n",
      " 24  default payment next month  30000 non-null  int64\n",
      "dtypes: int64(25)\n",
      "memory usage: 5.7 MB\n"
     ]
    }
   ],
   "source": [
    "df = pd.read_csv(\"data/default_of_credit_card_clients.csv\", skiprows=1)\n",
    "\n",
    "df.info()"
   ]
  },
  {
   "cell_type": "code",
   "execution_count": 3,
   "id": "0ea30a04-623a-4cf3-a504-fb8195a97cd8",
   "metadata": {},
   "outputs": [],
   "source": [
    "\n",
    "\n",
    "random.seed()\n",
    "\n",
    "# rename column to get rid of spaces \n",
    "\n",
    "df.rename(columns = {\"default payment next month\":\"default_payment\"}, inplace = True)\n",
    "\n",
    "\n",
    "# split into test and training set \n",
    "\n",
    "train_df, test_df = train_test_split(df, test_size=0.2)\n",
    "\n",
    "X_train, y_train = (train_df.drop(columns=[\"default_payment\"]),\n",
    "                   train_df[\"default_payment\"])\n",
    "\n",
    "X_test, y_test = (test_df.drop(columns=[\"default_payment\"]),\n",
    "                  test_df[\"default_payment\"])\n"
   ]
  },
  {
   "cell_type": "markdown",
   "id": "d848f859-a7e5-498d-a99d-e33eb4b7b989",
   "metadata": {},
   "source": [
    "The dataset was split into a 80% training and 20% testing set. The model will be built using only the training data. This gives the abilithy to compute a final performance metric for our model by evaluating it on the testing data. train_test_split() function shuffles the data to ensure the data ending up in the training and test sets is randomized. "
   ]
  },
  {
   "cell_type": "markdown",
   "id": "5cf56d5d-4fe1-4478-b46c-cc7330799be1",
   "metadata": {},
   "source": [
    "## Exploratory Data Analysis"
   ]
  },
  {
   "cell_type": "markdown",
   "id": "7f972b92-b8bd-46c7-a737-4e4b419100dc",
   "metadata": {},
   "source": [
    "### Exploring Credit Card Limit Balance"
   ]
  },
  {
   "cell_type": "markdown",
   "id": "1a9b0c2c-3233-41fe-81e3-881bdff08a0b",
   "metadata": {},
   "source": [
    "First, we will look at the feature limit balance. Credit card limits are likely an indictor of how wealthy someone is since banks tend to give higher limits to clients that have more money with them. Thus, this may be an important feature when predicting if someone is able to pay the bill on time. "
   ]
  },
  {
   "cell_type": "code",
   "execution_count": 4,
   "id": "bcae44c8-ac15-4389-b9a0-dff4ed99bc7a",
   "metadata": {},
   "outputs": [
    {
     "data": {
      "image/png": "[encoded data removed]",
      "text/plain": [
       "<Figure size 432x288 with 1 Axes>"
      ]
     },
     "metadata": {
      "needs_background": "light"
     },
     "output_type": "display_data"
    }
   ],
   "source": [
    "limit_bal = train_df.groupby(\"default_payment\")['LIMIT_BAL'].mean()\n",
    "sns.boxplot(x = \"default_payment\", y = \"LIMIT_BAL\", data = train_df, showmeans=True)\n",
    "plt.show()"
   ]
  },
  {
   "cell_type": "markdown",
   "id": "7a863f4b-46d7-4d07-a14c-41b209015f91",
   "metadata": {},
   "source": [
    "The side-by-side bloxplots above compare credit card limit balance of those who defaulted on their bill next month (class 1) vs those who did not default (class 0). The means are indicated by the green triangles, and the median is shown as the middle line in the box. Looking at the plot indicates that the mean and median is lower for clients who defaulted on the credit card next month. "
   ]
  },
  {
   "cell_type": "code",
   "execution_count": 5,
   "id": "b8f75128-bc6e-4896-b1d8-9aece5f33107",
   "metadata": {},
   "outputs": [
    {
     "data": {
      "text/html": [
       "<div>\n",
       "<style scoped>\n",
       "    .dataframe tbody tr th:only-of-type {\n",
       "        vertical-align: middle;\n",
       "    }\n",
       "\n",
       "    .dataframe tbody tr th {\n",
       "        vertical-align: top;\n",
       "    }\n",
       "\n",
       "    .dataframe thead th {\n",
       "        text-align: right;\n",
       "    }\n",
       "</style>\n",
       "<table border=\"1\" class=\"dataframe\">\n",
       "  <thead>\n",
       "    <tr style=\"text-align: right;\">\n",
       "      <th></th>\n",
       "      <th>LIMIT_BAL</th>\n",
       "    </tr>\n",
       "    <tr>\n",
       "      <th>default_payment</th>\n",
       "      <th></th>\n",
       "    </tr>\n",
       "  </thead>\n",
       "  <tbody>\n",
       "    <tr>\n",
       "      <th>0</th>\n",
       "      <td>178356.183443</td>\n",
       "    </tr>\n",
       "    <tr>\n",
       "      <th>1</th>\n",
       "      <td>131074.285714</td>\n",
       "    </tr>\n",
       "  </tbody>\n",
       "</table>\n",
       "</div>"
      ],
      "text/plain": [
       "                     LIMIT_BAL\n",
       "default_payment               \n",
       "0                178356.183443\n",
       "1                131074.285714"
      ]
     },
     "execution_count": 5,
     "metadata": {},
     "output_type": "execute_result"
    }
   ],
   "source": [
    "pd.DataFrame(limit_bal)"
   ]
  },
  {
   "cell_type": "markdown",
   "id": "adbddefd-8d95-44e1-a4a5-5e512a880fd5",
   "metadata": {},
   "source": [
    "Looking at the above table, we can see that the mean limit balance for clients that did not default on their credit payment (label 0) is higher than the mean limit balance for clients who defaulted on their credit card payment (label 1). \n",
    "To test whether this is statistically significant, we can perform a T-test to test the following hypothesis:\n",
    "\n",
    "$\\mathcal{H}_{0}$: the sample means are equal\n",
    "\n",
    "$\\mathcal{H}_{1}$: the sample means are unequal \n",
    "\n",
    "Despite not knowing whether the observations are normally distrubuted we can use this according to the central limit theorem because we have a large sample size. "
   ]
  },
  {
   "cell_type": "code",
   "execution_count": 6,
   "id": "dda54c05-7bf0-4fdf-b4bf-07093763ce6c",
   "metadata": {},
   "outputs": [],
   "source": [
    "#select rows where default_payment = 0\n",
    "\n",
    "default_0 = train_df[train_df[\"default_payment\"] == 0] \n",
    "\n",
    "#select rows where default_payment= 1\n",
    "default_1 = train_df[train_df[\"default_payment\"] == 1]\n",
    "\n",
    "bal_0 = default_0[[\"LIMIT_BAL\"]]\n",
    "bal_1 = default_1[[\"LIMIT_BAL\"]]"
   ]
  },
  {
   "cell_type": "code",
   "execution_count": 7,
   "id": "9b993d6a-32b3-46c7-a26a-16d1ce00e70c",
   "metadata": {},
   "outputs": [
    {
     "name": "stdout",
     "output_type": "stream",
     "text": [
      "stat: [23.70789143]\n",
      "p-value: [7.72659701e-123]\n"
     ]
    }
   ],
   "source": [
    "from scipy.stats import ttest_ind\n",
    "\n",
    "stat, p = ttest_ind(bal_0, bal_1)\n",
    "\n",
    "print(\"stat: \" + str(stat))\n",
    "print(\"p-value: \" + str(p))"
   ]
  },
  {
   "cell_type": "markdown",
   "id": "f90b2dea-5488-4038-9958-46892184a650",
   "metadata": {},
   "source": [
    "We reject the null hypothesis in favour of the alternative hypothesis at the significance level alpha = 0.0001 because the p-value is less than alpha. Therefore we can conclude that on average, clients who default on their credit card payment next on have a lower credit card limit. "
   ]
  },
  {
   "cell_type": "code",
   "execution_count": null,
   "id": "bd097804-4db1-488d-ba8d-fc971f9a7773",
   "metadata": {},
   "outputs": [],
   "source": []
  },
  {
   "cell_type": "code",
   "execution_count": null,
   "id": "2224c77e-3ce0-4e7f-84a8-d6a4a7a6c20f",
   "metadata": {},
   "outputs": [],
   "source": []
  },
  {
   "cell_type": "markdown",
   "id": "5f0b5531-d88c-4452-ab2a-dfefacc8f94b",
   "metadata": {},
   "source": [
    "### Class Imbalance"
   ]
  },
  {
   "cell_type": "code",
   "execution_count": 8,
   "id": "6ef60906-282e-425c-87a4-065ebacff2f5",
   "metadata": {},
   "outputs": [
    {
     "data": {
      "image/png": "[encoded data removed]",
      "text/plain": [
       "<Figure size 432x288 with 1 Axes>"
      ]
     },
     "metadata": {
      "needs_background": "light"
     },
     "output_type": "display_data"
    }
   ],
   "source": [
    "plt.figure(figsize=(6,4))\n",
    "\n",
    "default_plot = sns.countplot(x = \"default_payment\",data = train_df)\n",
    "plt.ylim(0,25000)\n",
    "total = float(len(train_df))\n",
    "for p in default_plot.patches:\n",
    "    default_plot.annotate((str(100* p.get_height()/total) + \"%\"), (p.get_x()+0.32, p.get_height()+1000), ha=\"center\")\n",
    "\n",
    "\n",
    "plt.show()\n"
   ]
  },
  {
   "cell_type": "markdown",
   "id": "0772e0a7-c072-45df-9393-adeb700ac498",
   "metadata": {},
   "source": [
    "\n",
    "The above plot shows the percentage of rows with default payment = 0 versus default payment = 1. Cleary there is class imbalance in this dataset. Because of this, we will use the area under the Receiver Operating Characterisitc curve (ROC AUC) as our primary metric to evaluate our model instead of accuracy, which tends to be missleading in cases of class imbalance. ROC AUC evalauates how good the model is as distinguishing between classes, and gives a more accurate sense of how well our model generalizes when dealing with class imbalance."
   ]
  },
  {
   "cell_type": "markdown",
   "id": "8176b231-3051-4c05-8837-d9ae05c551dc",
   "metadata": {},
   "source": [
    "### Preprossesing "
   ]
  },
  {
   "cell_type": "markdown",
   "id": "18c9d7f1-0cc9-42dc-9dd9-c27de085b06e",
   "metadata": {},
   "source": [
    "We apply scaling to numeric features to ensure the model built will be robust and not sensitive to the scale of each individual feature. To do this, we use the StandardScaler() function to set the sample mean to 0 and standard deviation to 1.\n",
    "\n",
    "To handle categorical values, we will apply one-hot-encoding. This creates binary dummy variables for each category. \n",
    "\n",
    "There are no null values in the dataset so there is no need to handle missing values. "
   ]
  },
  {
   "cell_type": "code",
   "execution_count": 9,
   "id": "fc23a969-95c1-445d-bcfc-b21e83d08211",
   "metadata": {},
   "outputs": [
    {
     "name": "stdout",
     "output_type": "stream",
     "text": [
      "<class 'pandas.core.frame.DataFrame'>\n",
      "Int64Index: 24000 entries, 4680 to 3970\n",
      "Data columns (total 25 columns):\n",
      " #   Column           Non-Null Count  Dtype\n",
      "---  ------           --------------  -----\n",
      " 0   ID               24000 non-null  int64\n",
      " 1   LIMIT_BAL        24000 non-null  int64\n",
      " 2   SEX              24000 non-null  int64\n",
      " 3   EDUCATION        24000 non-null  int64\n",
      " 4   MARRIAGE         24000 non-null  int64\n",
      " 5   AGE              24000 non-null  int64\n",
      " 6   PAY_0            24000 non-null  int64\n",
      " 7   PAY_2            24000 non-null  int64\n",
      " 8   PAY_3            24000 non-null  int64\n",
      " 9   PAY_4            24000 non-null  int64\n",
      " 10  PAY_5            24000 non-null  int64\n",
      " 11  PAY_6            24000 non-null  int64\n",
      " 12  BILL_AMT1        24000 non-null  int64\n",
      " 13  BILL_AMT2        24000 non-null  int64\n",
      " 14  BILL_AMT3        24000 non-null  int64\n",
      " 15  BILL_AMT4        24000 non-null  int64\n",
      " 16  BILL_AMT5        24000 non-null  int64\n",
      " 17  BILL_AMT6        24000 non-null  int64\n",
      " 18  PAY_AMT1         24000 non-null  int64\n",
      " 19  PAY_AMT2         24000 non-null  int64\n",
      " 20  PAY_AMT3         24000 non-null  int64\n",
      " 21  PAY_AMT4         24000 non-null  int64\n",
      " 22  PAY_AMT5         24000 non-null  int64\n",
      " 23  PAY_AMT6         24000 non-null  int64\n",
      " 24  default_payment  24000 non-null  int64\n",
      "dtypes: int64(25)\n",
      "memory usage: 5.3 MB\n"
     ]
    }
   ],
   "source": [
    "train_df.info()"
   ]
  },
  {
   "cell_type": "code",
   "execution_count": 12,
   "id": "ca59cee7-e28e-4e89-ad26-0d879413d7b9",
   "metadata": {},
   "outputs": [],
   "source": [
    "numeric_feats = [     # apply scaling\n",
    "    \"LIMIT_BAL\",\n",
    "    \"BILL_AMT1\",\n",
    "    \"BILL_AMT2\",\n",
    "    \"BILL_AMT3\",\n",
    "    \"BILL_AMT4\", \n",
    "    \"BILL_AMT5\",\n",
    "    \"BILL_AMT6\",\n",
    "    \"PAY_AMT1\",\n",
    "    \"PAY_AMT2\",\n",
    "    \"PAY_AMT3\",\n",
    "    \"PAY_AMT4\",\n",
    "    \"PAY_AMT5\",\n",
    "    \"PAY_AMT6\",\n",
    "    \"AGE\",\n",
    "]\n",
    "\n",
    "categorical_feats = [  # apply one-hot encoding\n",
    "    \"PAY_0\",\n",
    "    \"PAY_2\",\n",
    "    \"PAY_3\",\n",
    "    \"PAY_4\",\n",
    "    \"PAY_5\",\n",
    "    \"PAY_6\",\n",
    "    \"EDUCATION\",\n",
    "    \"SEX\",\n",
    "    \"MARRIAGE\",\n",
    "]"
   ]
  },
  {
   "cell_type": "markdown",
   "id": "374c15c3-ba70-4765-91fb-d4e52a3c6583",
   "metadata": {},
   "source": [
    "Next, we apply scaling and one-hot-encoding through using a column transformer, which applies the transformations to each column specified. "
   ]
  },
  {
   "cell_type": "code",
   "execution_count": 14,
   "id": "2f88c0b2-e9eb-47ac-957a-d1553892fc9c",
   "metadata": {},
   "outputs": [],
   "source": [
    "ct = make_column_transformer(\n",
    "    (StandardScaler(), numeric_feats,),\n",
    "    (OneHotEncoder(handle_unknown=\"ignore\"), categorical_feats,),\n",
    "\n",
    ")"
   ]
  },
  {
   "cell_type": "markdown",
   "id": "eb041955-6472-4178-b7c0-bfc507d4ae0f",
   "metadata": {},
   "source": [
    "### Baseline Model"
   ]
  },
  {
   "cell_type": "markdown",
   "id": "8f92c184-504a-47ab-966f-2dc70da4b68b",
   "metadata": {},
   "source": [
    "Firstly, we will try a baseline model to act as a comparison measure for the final model built. Using a pipeline to do this ensures that the model is built using just the training data, and that the testing data has no influence on the model. 5-fold Cross validation is used to give a more robust measure of performance error. K-fold Cross-validation spilts the training data into k folds, and each time one fold is the validation set. Each fold fits the model on the training portion and uses one fold as a validation set to calculate a performance metric, which can be averaged to get a overall score of how well the model does. This ensures that outliers don't negatively influence the performance metric. "
   ]
  },
  {
   "cell_type": "code",
   "execution_count": 16,
   "id": "e073178f-da7b-447e-831e-58fb42f29d23",
   "metadata": {},
   "outputs": [
    {
     "data": {
      "text/html": [
       "<div>\n",
       "<style scoped>\n",
       "    .dataframe tbody tr th:only-of-type {\n",
       "        vertical-align: middle;\n",
       "    }\n",
       "\n",
       "    .dataframe tbody tr th {\n",
       "        vertical-align: top;\n",
       "    }\n",
       "\n",
       "    .dataframe thead th {\n",
       "        text-align: right;\n",
       "    }\n",
       "</style>\n",
       "<table border=\"1\" class=\"dataframe\">\n",
       "  <thead>\n",
       "    <tr style=\"text-align: right;\">\n",
       "      <th></th>\n",
       "      <th>fit_time</th>\n",
       "      <th>score_time</th>\n",
       "      <th>test_score</th>\n",
       "      <th>train_score</th>\n",
       "    </tr>\n",
       "  </thead>\n",
       "  <tbody>\n",
       "    <tr>\n",
       "      <th>0</th>\n",
       "      <td>0.080761</td>\n",
       "      <td>0.014796</td>\n",
       "      <td>0.5</td>\n",
       "      <td>0.5</td>\n",
       "    </tr>\n",
       "    <tr>\n",
       "      <th>1</th>\n",
       "      <td>0.045071</td>\n",
       "      <td>0.014051</td>\n",
       "      <td>0.5</td>\n",
       "      <td>0.5</td>\n",
       "    </tr>\n",
       "    <tr>\n",
       "      <th>2</th>\n",
       "      <td>0.050334</td>\n",
       "      <td>0.014921</td>\n",
       "      <td>0.5</td>\n",
       "      <td>0.5</td>\n",
       "    </tr>\n",
       "    <tr>\n",
       "      <th>3</th>\n",
       "      <td>0.046529</td>\n",
       "      <td>0.014421</td>\n",
       "      <td>0.5</td>\n",
       "      <td>0.5</td>\n",
       "    </tr>\n",
       "    <tr>\n",
       "      <th>4</th>\n",
       "      <td>0.044651</td>\n",
       "      <td>0.014352</td>\n",
       "      <td>0.5</td>\n",
       "      <td>0.5</td>\n",
       "    </tr>\n",
       "  </tbody>\n",
       "</table>\n",
       "</div>"
      ],
      "text/plain": [
       "   fit_time  score_time  test_score  train_score\n",
       "0  0.080761    0.014796         0.5          0.5\n",
       "1  0.045071    0.014051         0.5          0.5\n",
       "2  0.050334    0.014921         0.5          0.5\n",
       "3  0.046529    0.014421         0.5          0.5\n",
       "4  0.044651    0.014352         0.5          0.5"
      ]
     },
     "execution_count": 16,
     "metadata": {},
     "output_type": "execute_result"
    }
   ],
   "source": [
    "from sklearn.model_selection import cross_val_predict\n",
    "\n",
    "dummy = DummyClassifier()\n",
    "\n",
    "pipe = make_pipeline(ct, dummy)\n",
    "\n",
    "scores = cross_validate(pipe, X_train, y_train, return_train_score=True, cv=5, scoring=\"roc_auc\")\n",
    "scores = pd.DataFrame(scores)\n",
    "scores"
   ]
  },
  {
   "cell_type": "markdown",
   "id": "411c26c1-5db3-4489-834b-aeaee374a24f",
   "metadata": {},
   "source": [
    "### Logistic Regression"
   ]
  },
  {
   "cell_type": "markdown",
   "id": "38b4c839-e872-4fd1-b5cc-17965225e19a",
   "metadata": {},
   "source": [
    "Next, a logistic regression model is fitted to the training data. Logistic regression uses the training data to learn coefficients, which then can be used to calculate prediction probabilities of the each class using the sigmoid function. This allows us to calculate the likelihood of a person defaulting on their credit card. The hyperparameter C is used to control the fundatamental tradeoff of bias and variance, to reduce the likeliness of the model overfitting or underfitting. "
   ]
  },
  {
   "cell_type": "code",
   "execution_count": 22,
   "id": "fad46520-8fb0-49e2-b40c-67ccab3d5914",
   "metadata": {},
   "outputs": [
    {
     "data": {
      "text/html": [
       "<div>\n",
       "<style scoped>\n",
       "    .dataframe tbody tr th:only-of-type {\n",
       "        vertical-align: middle;\n",
       "    }\n",
       "\n",
       "    .dataframe tbody tr th {\n",
       "        vertical-align: top;\n",
       "    }\n",
       "\n",
       "    .dataframe thead th {\n",
       "        text-align: right;\n",
       "    }\n",
       "</style>\n",
       "<table border=\"1\" class=\"dataframe\">\n",
       "  <thead>\n",
       "    <tr style=\"text-align: right;\">\n",
       "      <th></th>\n",
       "      <th>C</th>\n",
       "      <th>Train Scores</th>\n",
       "      <th>CV Scores</th>\n",
       "    </tr>\n",
       "  </thead>\n",
       "  <tbody>\n",
       "    <tr>\n",
       "      <th>0</th>\n",
       "      <td>0.031623</td>\n",
       "      <td>0.772838</td>\n",
       "      <td>0.769484</td>\n",
       "    </tr>\n",
       "    <tr>\n",
       "      <th>1</th>\n",
       "      <td>0.100000</td>\n",
       "      <td>0.773099</td>\n",
       "      <td>0.769361</td>\n",
       "    </tr>\n",
       "    <tr>\n",
       "      <th>2</th>\n",
       "      <td>0.316228</td>\n",
       "      <td>0.773205</td>\n",
       "      <td>0.769095</td>\n",
       "    </tr>\n",
       "    <tr>\n",
       "      <th>3</th>\n",
       "      <td>1.000000</td>\n",
       "      <td>0.773281</td>\n",
       "      <td>0.768788</td>\n",
       "    </tr>\n",
       "    <tr>\n",
       "      <th>4</th>\n",
       "      <td>3.162278</td>\n",
       "      <td>0.773344</td>\n",
       "      <td>0.768452</td>\n",
       "    </tr>\n",
       "    <tr>\n",
       "      <th>5</th>\n",
       "      <td>10.000000</td>\n",
       "      <td>0.773407</td>\n",
       "      <td>0.768063</td>\n",
       "    </tr>\n",
       "    <tr>\n",
       "      <th>6</th>\n",
       "      <td>31.622777</td>\n",
       "      <td>0.773459</td>\n",
       "      <td>0.767816</td>\n",
       "    </tr>\n",
       "  </tbody>\n",
       "</table>\n",
       "</div>"
      ],
      "text/plain": [
       "           C  Train Scores  CV Scores\n",
       "0   0.031623      0.772838   0.769484\n",
       "1   0.100000      0.773099   0.769361\n",
       "2   0.316228      0.773205   0.769095\n",
       "3   1.000000      0.773281   0.768788\n",
       "4   3.162278      0.773344   0.768452\n",
       "5  10.000000      0.773407   0.768063\n",
       "6  31.622777      0.773459   0.767816"
      ]
     },
     "execution_count": 22,
     "metadata": {},
     "output_type": "execute_result"
    }
   ],
   "source": [
    "random.seed()\n",
    "\n",
    "train_scores = []\n",
    "cv_scores = []\n",
    "\n",
    "C = 10.0 ** np.arange(-1.5, 2, 0.5)\n",
    "\n",
    "for c in C:\n",
    "    \n",
    "    pipe_lr = make_pipeline(\n",
    "    ct, \n",
    "    LogisticRegression(max_iter=1000, C=c),\n",
    "    )\n",
    "    \n",
    "    results = cross_validate(pipe_lr, X_train, y_train, return_train_score=True, scoring = \"roc_auc\")\n",
    "    \n",
    "    train_scores.append(results[\"train_score\"].mean())\n",
    "    cv_scores.append(results[\"test_score\"].mean())\n",
    "    \n",
    "\n",
    "scores = pd.DataFrame({\"C\": C, \"Train Scores\": train_scores, \"CV Scores\": cv_scores })\n",
    "\n",
    "scores\n"
   ]
  },
  {
   "cell_type": "code",
   "execution_count": 25,
   "id": "6bbab2c8-cf76-4fe7-ad49-b56fbfb19132",
   "metadata": {},
   "outputs": [
    {
     "name": "stdout",
     "output_type": "stream",
     "text": [
      "best C value: 0.03162277660168379\n"
     ]
    }
   ],
   "source": [
    "best_C = scores.loc[scores[\"CV Scores\"].idxmax(), \"C\"]\n",
    "print(\"best C value: \" + str(best_C))"
   ]
  },
  {
   "cell_type": "code",
   "execution_count": null,
   "id": "1571c871-7942-4ae1-8b2d-93d26c98c577",
   "metadata": {},
   "outputs": [],
   "source": []
  }
 ],
 "metadata": {
  "kernelspec": {
   "display_name": "Python [conda env:cpsc330]",
   "language": "python",
   "name": "conda-env-cpsc330-py"
  },
  "language_info": {
   "codemirror_mode": {
    "name": "ipython",
    "version": 3
   },
   "file_extension": ".py",
   "mimetype": "text/x-python",
   "name": "python",
   "nbconvert_exporter": "python",
   "pygments_lexer": "ipython3",
   "version": "3.9.7"
  }
 },
 "nbformat": 4,
 "nbformat_minor": 5
}
