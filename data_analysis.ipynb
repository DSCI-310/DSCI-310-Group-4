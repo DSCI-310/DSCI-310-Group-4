{
 "cells": [
  {
   "cell_type": "markdown",
   "id": "e420c79a-ce4d-4e21-9873-7ec3b1e470ef",
   "metadata": {},
   "source": [
    "## Introduction"
   ]
  },
  {
   "cell_type": "markdown",
   "id": "a7eed917-df95-427d-aa93-00f5ea3a4dff",
   "metadata": {},
   "source": [
    "Amidst growing financial insecurity during the pandemic, unsecured debt has continued to rise (Frech et al., 2021). Consequently, the consumer credit market and risk prediction has been a matter of great speculation and fear, lest there be a repeat of the financial crises that rocked the economic world in the late 2000s: In 2006, Taiwan was rocked by a credit card debt crisis with debt from credit cards and cash cards reaching $268 billion USD and over half a million people unable to repay their loans (Yeh & Lien, 2009). As many could barely afford to pay the minimum credit card debt balance every month or continued to default on their payments, significant societal problems consequently plagued the country, many banks incurred heavy losses and the government eventually needed to step in to stabilize the financial system (Yeh & Lien, 2009). This situation arose because many banks in Taiwan had lowered the requirements for credit card approval in order to gain more customers within the increasingly competitive industry (Tsai, 2010). Such examples indicate that a strict assessment of an applicant’s capability to make their card payment is critical to a well-developed financial system and a business’s survivability in the banking industry. \n",
    "\n",
    "This project focuses on the case of customers default payments in Taiwan and finds the predictive accuracy of the probability of the customers to default. The purpose of this study is to assess the true probability of default because the real probability of default is unknown.\n",
    "\n",
    "This project used the data from UCI Machine learning repository. As the response variable, this project used data from a binary variable, default payment (Yes = 1, No = 0). The following 23 factors were considered as explanatory variables in this study, which was based on a review of the literature:\n",
    "\n",
    "* Amount of the given credit (NT dollar): it includes both the individual consumer credit and his/her family (supplementary) credit.\n",
    "* Gender (1 = male; 2 = female).\n",
    "* Education (1 = graduate school; 2 = university; 3 = high school; 4 = others).\n",
    "* Marital status (1 = married; 2 = single; 3 = others).\n",
    "* Age (year).\n",
    "* History of past payment. The measurement scale for the repayment status is: -1 = pay duly; 1 = payment delay for one month; 2 = payment delay for two months . . . 8 = payment delay for eight months; 9 = payment delay for nine months and above.\n",
    "* Amount of bill statement (NT dollar). \n",
    "* Amount of previous payment (NT dollar).\n",
    "\n",
    "The objective of this project is to maintain ease of interpretation for the average reader. In line with this goal, we will simplify the models and methods of analysis we choose to use as well as exclude some features in the data set in favor of greater readability.\n",
    "\n"
   ]
  },
  {
   "cell_type": "code",
   "execution_count": 18,
   "id": "e21758e7-fcb7-402a-9a67-b8f1d1b9d126",
   "metadata": {},
   "outputs": [],
   "source": [
    "import os\n",
    "\n",
    "%matplotlib inline\n",
    "import sys\n",
    "\n",
    "import matplotlib.pyplot as plt\n",
    "import numpy as np\n",
    "import pandas as pd\n",
    "import seaborn as sns\n",
    "import xgboost as xgb\n",
    "from sklearn.compose import ColumnTransformer, make_column_transformer\n",
    "from sklearn.dummy import DummyClassifier\n",
    "from sklearn.ensemble import RandomForestClassifier\n",
    "from sklearn.impute import SimpleImputer\n",
    "from sklearn.linear_model import LogisticRegression\n",
    "from sklearn.metrics import (\n",
    "    classification_report,\n",
    "    confusion_matrix,\n",
    "    f1_score,\n",
    "    make_scorer,\n",
    "    plot_confusion_matrix,\n",
    ")\n",
    "from sklearn.model_selection import (\n",
    "    GridSearchCV,\n",
    "    RandomizedSearchCV,\n",
    "    cross_val_score,\n",
    "    cross_validate,\n",
    "    train_test_split,\n",
    ")\n",
    "from sklearn.pipeline import Pipeline, make_pipeline\n",
    "from sklearn.preprocessing import OneHotEncoder, OrdinalEncoder, StandardScaler\n",
    "from sklearn.svm import SVC\n",
    "import random"
   ]
  },
  {
   "cell_type": "code",
   "execution_count": 8,
   "id": "696e192a-37a3-4335-afba-35a800eaff7f",
   "metadata": {},
   "outputs": [
    {
     "name": "stdout",
     "output_type": "stream",
     "text": [
      "<class 'pandas.core.frame.DataFrame'>\n",
      "RangeIndex: 30000 entries, 0 to 29999\n",
      "Data columns (total 25 columns):\n",
      " #   Column                      Non-Null Count  Dtype\n",
      "---  ------                      --------------  -----\n",
      " 0   ID                          30000 non-null  int64\n",
      " 1   LIMIT_BAL                   30000 non-null  int64\n",
      " 2   SEX                         30000 non-null  int64\n",
      " 3   EDUCATION                   30000 non-null  int64\n",
      " 4   MARRIAGE                    30000 non-null  int64\n",
      " 5   AGE                         30000 non-null  int64\n",
      " 6   PAY_0                       30000 non-null  int64\n",
      " 7   PAY_2                       30000 non-null  int64\n",
      " 8   PAY_3                       30000 non-null  int64\n",
      " 9   PAY_4                       30000 non-null  int64\n",
      " 10  PAY_5                       30000 non-null  int64\n",
      " 11  PAY_6                       30000 non-null  int64\n",
      " 12  BILL_AMT1                   30000 non-null  int64\n",
      " 13  BILL_AMT2                   30000 non-null  int64\n",
      " 14  BILL_AMT3                   30000 non-null  int64\n",
      " 15  BILL_AMT4                   30000 non-null  int64\n",
      " 16  BILL_AMT5                   30000 non-null  int64\n",
      " 17  BILL_AMT6                   30000 non-null  int64\n",
      " 18  PAY_AMT1                    30000 non-null  int64\n",
      " 19  PAY_AMT2                    30000 non-null  int64\n",
      " 20  PAY_AMT3                    30000 non-null  int64\n",
      " 21  PAY_AMT4                    30000 non-null  int64\n",
      " 22  PAY_AMT5                    30000 non-null  int64\n",
      " 23  PAY_AMT6                    30000 non-null  int64\n",
      " 24  default payment next month  30000 non-null  int64\n",
      "dtypes: int64(25)\n",
      "memory usage: 5.7 MB\n"
     ]
    }
   ],
   "source": [
    "df = pd.read_csv(\"data/default_of_credit_card_clients.csv\", skiprows=1)\n",
    "\n",
    "df.info()"
   ]
  },
  {
   "cell_type": "code",
   "execution_count": 15,
   "id": "0ea30a04-623a-4cf3-a504-fb8195a97cd8",
   "metadata": {},
   "outputs": [],
   "source": [
    "\n",
    "\n",
    "random.seed()\n",
    "\n",
    "# rename column to get rid of spaces \n",
    "\n",
    "df.rename(columns = {\"default payment next month\":\"default_payment\"}, inplace = True)\n",
    "\n",
    "\n",
    "# split into test and training set \n",
    "\n",
    "train_df, test_df = train_test_split(df, test_size=0.2)\n",
    "\n",
    "X_train, y_train = (train_df.drop(columns=[\"default_payment\"]),\n",
    "                   train_df[\"default_payment\"])\n",
    "\n",
    "X_test, y_test = (test_df.drop(columns=[\"default_payment\"]),\n",
    "                  test_df[\"default_payment\"])\n"
   ]
  },
  {
   "cell_type": "markdown",
   "id": "5cf56d5d-4fe1-4478-b46c-cc7330799be1",
   "metadata": {},
   "source": [
    "## Exploratory Data Analysis"
   ]
  },
  {
   "cell_type": "markdown",
   "id": "7f972b92-b8bd-46c7-a737-4e4b419100dc",
   "metadata": {},
   "source": [
    "### Exploring Credit Card Limit Balance"
   ]
  },
  {
   "cell_type": "markdown",
   "id": "1a9b0c2c-3233-41fe-81e3-881bdff08a0b",
   "metadata": {},
   "source": [
    "First, we will look at the feature limit balance. Credit card limits are likely an indictor of how wealthy someone is since banks tend to give higher limits to clients that have more money with them. Thus, this may be an important feature when predicting if someone is able to pay the bill on time. "
   ]
  },
  {
   "cell_type": "code",
   "execution_count": 19,
   "id": "bcae44c8-ac15-4389-b9a0-dff4ed99bc7a",
   "metadata": {},
   "outputs": [
    {
     "data": {
      "image/png": "[encoded data removed]",
      "text/plain": [
       "<Figure size 432x288 with 1 Axes>"
      ]
     },
     "metadata": {
      "needs_background": "light"
     },
     "output_type": "display_data"
    }
   ],
   "source": [
    "limit_bal = train_df.groupby(\"default_payment\")['LIMIT_BAL'].mean()\n",
    "sns.boxplot(x = \"default_payment\", y = \"LIMIT_BAL\", data = train_df, showmeans=True)\n",
    "plt.show()"
   ]
  },
  {
   "cell_type": "markdown",
   "id": "7a863f4b-46d7-4d07-a14c-41b209015f91",
   "metadata": {},
   "source": [
    "The side-by-side bloxplots above compare credit card limit balance of those who defaulted on their bill next month (class 1) vs those who did not default (class 0). The means are indicated by the green triangles, and the median is shown as the middle line in the box. Looking at the plot indicates that the mean and median is lower for clients who defaulted on the credit card next month. "
   ]
  },
  {
   "cell_type": "code",
   "execution_count": 20,
   "id": "b8f75128-bc6e-4896-b1d8-9aece5f33107",
   "metadata": {},
   "outputs": [
    {
     "data": {
      "text/html": [
       "<div>\n",
       "<style scoped>\n",
       "    .dataframe tbody tr th:only-of-type {\n",
       "        vertical-align: middle;\n",
       "    }\n",
       "\n",
       "    .dataframe tbody tr th {\n",
       "        vertical-align: top;\n",
       "    }\n",
       "\n",
       "    .dataframe thead th {\n",
       "        text-align: right;\n",
       "    }\n",
       "</style>\n",
       "<table border=\"1\" class=\"dataframe\">\n",
       "  <thead>\n",
       "    <tr style=\"text-align: right;\">\n",
       "      <th></th>\n",
       "      <th>LIMIT_BAL</th>\n",
       "    </tr>\n",
       "    <tr>\n",
       "      <th>default_payment</th>\n",
       "      <th></th>\n",
       "    </tr>\n",
       "  </thead>\n",
       "  <tbody>\n",
       "    <tr>\n",
       "      <th>0</th>\n",
       "      <td>177806.430937</td>\n",
       "    </tr>\n",
       "    <tr>\n",
       "      <th>1</th>\n",
       "      <td>131488.760894</td>\n",
       "    </tr>\n",
       "  </tbody>\n",
       "</table>\n",
       "</div>"
      ],
      "text/plain": [
       "                     LIMIT_BAL\n",
       "default_payment               \n",
       "0                177806.430937\n",
       "1                131488.760894"
      ]
     },
     "execution_count": 20,
     "metadata": {},
     "output_type": "execute_result"
    }
   ],
   "source": [
    "pd.DataFrame(limit_bal)"
   ]
  },
  {
   "cell_type": "markdown",
   "id": "a5ae857e-3076-4234-861b-70e4220b6b3d",
   "metadata": {},
   "source": [
    "## References"
   ]
  },
  {
   "cell_type": "markdown",
   "id": "f10afbb1-d6c9-4ee2-b011-e2b47fc89b01",
   "metadata": {},
   "source": [
    "Dua, D., & Graff, C. (2016). UCI Machine Learning Repository: default of credit card clients Data Set [Data set].  University of California, Irvine, School of Information and Computer Science. https://archive.ics.uci.edu/ml/datasets/default+of+credit+card+clients\n",
    "\n",
    "Frech, A., Houle, J., & Tumin, D. (2021). Trajectories of unsecured debt and health at midlife. SSM - Population Health, 15, 100846. https://doi.org/10.1016/j.ssmph.2021.100846\n",
    "\n",
    "Tsai, B.-H. (2010). Gauging bank efficiency during card insolvency crisis: the case of the Taiwanese banks. The Journal of Developing Areas, 44(1), 267–285. https://doi.org/10.1353/jda.0.0087\n",
    "\n",
    "Yeh, I-Cheng., & Lien, C. (2009). The comparisons of data mining techniques for the predictive accuracy of probability of default of credit card clients. Expert Systems with Applications, 36(2), 2473–2480. https://doi.org/10.1016/j.eswa.2007.12.020"
   ]
  },
  {
   "cell_type": "code",
   "execution_count": null,
   "id": "da081e2b-1b15-43ad-b9d8-e3c2b3bb5fc9",
   "metadata": {},
   "outputs": [],
   "source": []
  }
 ],
 "metadata": {
  "kernelspec": {
   "display_name": "Python 3 (ipykernel)",
   "language": "python",
   "name": "python3"
  },
  "language_info": {
   "codemirror_mode": {
    "name": "ipython",
    "version": 3
   },
   "file_extension": ".py",
   "mimetype": "text/x-python",
   "name": "python",
   "nbconvert_exporter": "python",
   "pygments_lexer": "ipython3",
   "version": "3.9.7"
  }
 },
 "nbformat": 4,
 "nbformat_minor": 5
}
