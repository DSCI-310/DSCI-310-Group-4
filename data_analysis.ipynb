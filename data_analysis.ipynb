{
 "cells": [
  {
   "cell_type": "code",
   "execution_count": 1,
   "id": "e21758e7-fcb7-402a-9a67-b8f1d1b9d126",
   "metadata": {},
   "outputs": [],
   "source": [
    "import os\n",
    "\n",
    "%matplotlib inline\n",
    "import sys\n",
    "\n",
    "import matplotlib.pyplot as plt\n",
    "import numpy as np\n",
    "import pandas as pd\n",
    "import seaborn as sns\n",
    "import xgboost as xgb\n",
    "from sklearn.compose import ColumnTransformer, make_column_transformer\n",
    "from sklearn.dummy import DummyClassifier\n",
    "from sklearn.ensemble import RandomForestClassifier\n",
    "from sklearn.impute import SimpleImputer\n",
    "from sklearn.linear_model import LogisticRegression\n",
    "from sklearn.metrics import (\n",
    "    classification_report,\n",
    "    confusion_matrix,\n",
    "    f1_score,\n",
    "    make_scorer,\n",
    "    plot_confusion_matrix,\n",
    ")\n",
    "from sklearn.model_selection import (\n",
    "    GridSearchCV,\n",
    "    RandomizedSearchCV,\n",
    "    cross_val_score,\n",
    "    cross_validate,\n",
    "    train_test_split,\n",
    ")\n",
    "from sklearn.pipeline import Pipeline, make_pipeline\n",
    "from sklearn.preprocessing import OneHotEncoder, OrdinalEncoder, StandardScaler\n",
    "from sklearn.svm import SVC\n",
    "import random"
   ]
  },
  {
   "cell_type": "code",
   "execution_count": 2,
   "id": "696e192a-37a3-4335-afba-35a800eaff7f",
   "metadata": {},
   "outputs": [
    {
     "name": "stdout",
     "output_type": "stream",
     "text": [
      "<class 'pandas.core.frame.DataFrame'>\n",
      "RangeIndex: 30000 entries, 0 to 29999\n",
      "Data columns (total 25 columns):\n",
      " #   Column                      Non-Null Count  Dtype\n",
      "---  ------                      --------------  -----\n",
      " 0   ID                          30000 non-null  int64\n",
      " 1   LIMIT_BAL                   30000 non-null  int64\n",
      " 2   SEX                         30000 non-null  int64\n",
      " 3   EDUCATION                   30000 non-null  int64\n",
      " 4   MARRIAGE                    30000 non-null  int64\n",
      " 5   AGE                         30000 non-null  int64\n",
      " 6   PAY_0                       30000 non-null  int64\n",
      " 7   PAY_2                       30000 non-null  int64\n",
      " 8   PAY_3                       30000 non-null  int64\n",
      " 9   PAY_4                       30000 non-null  int64\n",
      " 10  PAY_5                       30000 non-null  int64\n",
      " 11  PAY_6                       30000 non-null  int64\n",
      " 12  BILL_AMT1                   30000 non-null  int64\n",
      " 13  BILL_AMT2                   30000 non-null  int64\n",
      " 14  BILL_AMT3                   30000 non-null  int64\n",
      " 15  BILL_AMT4                   30000 non-null  int64\n",
      " 16  BILL_AMT5                   30000 non-null  int64\n",
      " 17  BILL_AMT6                   30000 non-null  int64\n",
      " 18  PAY_AMT1                    30000 non-null  int64\n",
      " 19  PAY_AMT2                    30000 non-null  int64\n",
      " 20  PAY_AMT3                    30000 non-null  int64\n",
      " 21  PAY_AMT4                    30000 non-null  int64\n",
      " 22  PAY_AMT5                    30000 non-null  int64\n",
      " 23  PAY_AMT6                    30000 non-null  int64\n",
      " 24  default payment next month  30000 non-null  int64\n",
      "dtypes: int64(25)\n",
      "memory usage: 5.7 MB\n"
     ]
    }
   ],
   "source": [
    "df = pd.read_csv(\"data/default_of_credit_card_clients.csv\", skiprows=1)\n",
    "\n",
    "df.info()"
   ]
  },
  {
   "cell_type": "code",
   "execution_count": 3,
   "id": "0ea30a04-623a-4cf3-a504-fb8195a97cd8",
   "metadata": {},
   "outputs": [],
   "source": [
    "\n",
    "\n",
    "random.seed()\n",
    "\n",
    "# rename column to get rid of spaces \n",
    "\n",
    "df.rename(columns = {\"default payment next month\":\"default_payment\"}, inplace = True)\n",
    "\n",
    "\n",
    "# split into test and training set \n",
    "\n",
    "train_df, test_df = train_test_split(df, test_size=0.2)\n",
    "\n",
    "X_train, y_train = (train_df.drop(columns=[\"default_payment\"]),\n",
    "                   train_df[\"default_payment\"])\n",
    "\n",
    "X_test, y_test = (test_df.drop(columns=[\"default_payment\"]),\n",
    "                  test_df[\"default_payment\"])\n"
   ]
  },
  {
   "cell_type": "markdown",
   "id": "d848f859-a7e5-498d-a99d-e33eb4b7b989",
   "metadata": {},
   "source": [
    "The dataset was split into a 80% training and 20% testing set. The model will be built using only the training data. This gives the abilithy to compute a final performance metric for our model by evaluating it on the testing data. train_test_split() function shuffles the data to ensure the data ending up in the training and test sets is randomized. "
   ]
  },
  {
   "cell_type": "markdown",
   "id": "5cf56d5d-4fe1-4478-b46c-cc7330799be1",
   "metadata": {},
   "source": [
    "## Exploratory Data Analysis"
   ]
  },
  {
   "cell_type": "markdown",
   "id": "7f972b92-b8bd-46c7-a737-4e4b419100dc",
   "metadata": {},
   "source": [
    "### Exploring Credit Card Limit Balance"
   ]
  },
  {
   "cell_type": "markdown",
   "id": "1a9b0c2c-3233-41fe-81e3-881bdff08a0b",
   "metadata": {},
   "source": [
    "First, we will look at the feature limit balance. Credit card limits are likely an indictor of how wealthy someone is since banks tend to give higher limits to clients that have more money with them. Thus, this may be an important feature when predicting if someone is able to pay the bill on time. "
   ]
  },
  {
   "cell_type": "code",
   "execution_count": 4,
   "id": "bcae44c8-ac15-4389-b9a0-dff4ed99bc7a",
   "metadata": {},
   "outputs": [
    {
     "data": {
      "image/png": "[encoded data removed]",
      "text/plain": [
       "<Figure size 432x288 with 1 Axes>"
      ]
     },
     "metadata": {
      "needs_background": "light"
     },
     "output_type": "display_data"
    }
   ],
   "source": [
    "limit_bal = train_df.groupby(\"default_payment\")['LIMIT_BAL'].mean()\n",
    "sns.boxplot(x = \"default_payment\", y = \"LIMIT_BAL\", data = train_df, showmeans=True)\n",
    "plt.show()"
   ]
  },
  {
   "cell_type": "markdown",
   "id": "7a863f4b-46d7-4d07-a14c-41b209015f91",
   "metadata": {},
   "source": [
    "The side-by-side bloxplots above compare credit card limit balance of those who defaulted on their bill next month (class 1) vs those who did not default (class 0). The means are indicated by the green triangles, and the median is shown as the middle line in the box. Looking at the plot indicates that the mean and median is lower for clients who defaulted on the credit card next month. "
   ]
  },
  {
   "cell_type": "code",
   "execution_count": 5,
   "id": "b8f75128-bc6e-4896-b1d8-9aece5f33107",
   "metadata": {},
   "outputs": [
    {
     "data": {
      "text/html": [
       "<div>\n",
       "<style scoped>\n",
       "    .dataframe tbody tr th:only-of-type {\n",
       "        vertical-align: middle;\n",
       "    }\n",
       "\n",
       "    .dataframe tbody tr th {\n",
       "        vertical-align: top;\n",
       "    }\n",
       "\n",
       "    .dataframe thead th {\n",
       "        text-align: right;\n",
       "    }\n",
       "</style>\n",
       "<table border=\"1\" class=\"dataframe\">\n",
       "  <thead>\n",
       "    <tr style=\"text-align: right;\">\n",
       "      <th></th>\n",
       "      <th>LIMIT_BAL</th>\n",
       "    </tr>\n",
       "    <tr>\n",
       "      <th>default_payment</th>\n",
       "      <th></th>\n",
       "    </tr>\n",
       "  </thead>\n",
       "  <tbody>\n",
       "    <tr>\n",
       "      <th>0</th>\n",
       "      <td>178094.89599</td>\n",
       "    </tr>\n",
       "    <tr>\n",
       "      <th>1</th>\n",
       "      <td>130453.94166</td>\n",
       "    </tr>\n",
       "  </tbody>\n",
       "</table>\n",
       "</div>"
      ],
      "text/plain": [
       "                    LIMIT_BAL\n",
       "default_payment              \n",
       "0                178094.89599\n",
       "1                130453.94166"
      ]
     },
     "execution_count": 5,
     "metadata": {},
     "output_type": "execute_result"
    }
   ],
   "source": [
    "pd.DataFrame(limit_bal)"
   ]
  },
  {
   "cell_type": "markdown",
   "id": "adbddefd-8d95-44e1-a4a5-5e512a880fd5",
   "metadata": {},
   "source": [
    "Looking at the above table, we can see that the mean limit balance for clients that did not default on their credit payment (label 0) is higher than the mean limit balance for clients who defaulted on their credit card payment (label 1). \n",
    "To test whether this is statistically significant, we can perform a T-test to test the following hypothesis:\n",
    "\n",
    "$\\mathcal{H}_{0}$: the sample means are equal\n",
    "\n",
    "$\\mathcal{H}_{1}$: the sample means are unequal \n",
    "\n",
    "Despite not knowing whether the observations are normally distrubuted we can use this according to the central limit theorem because we have a large sample size. "
   ]
  },
  {
   "cell_type": "code",
   "execution_count": 6,
   "id": "dda54c05-7bf0-4fdf-b4bf-07093763ce6c",
   "metadata": {},
   "outputs": [],
   "source": [
    "#select rows where default_payment = 0\n",
    "\n",
    "default_0 = train_df[train_df[\"default_payment\"] == 0] \n",
    "\n",
    "#select rows where default_payment= 1\n",
    "default_1 = train_df[train_df[\"default_payment\"] == 1]\n",
    "\n",
    "bal_0 = default_0[[\"LIMIT_BAL\"]]\n",
    "bal_1 = default_1[[\"LIMIT_BAL\"]]"
   ]
  },
  {
   "cell_type": "code",
   "execution_count": 7,
   "id": "9b993d6a-32b3-46c7-a26a-16d1ce00e70c",
   "metadata": {},
   "outputs": [
    {
     "name": "stdout",
     "output_type": "stream",
     "text": [
      "stat: [23.96542023]\n",
      "p-value: [1.90156978e-125]\n"
     ]
    }
   ],
   "source": [
    "from scipy.stats import ttest_ind\n",
    "\n",
    "stat, p = ttest_ind(bal_0, bal_1)\n",
    "\n",
    "print(\"stat: \" + str(stat))\n",
    "print(\"p-value: \" + str(p))"
   ]
  },
  {
   "cell_type": "markdown",
   "id": "f90b2dea-5488-4038-9958-46892184a650",
   "metadata": {},
   "source": [
    "We reject the null hypothesis in favour of the alternative hypothesis at the significance level alpha = 0.0001 because the p-value is less than alpha. Therefore we can conclude that on average, clients who default on their credit card payment next on have a lower credit card limit. "
   ]
  },
  {
   "cell_type": "code",
   "execution_count": null,
   "id": "bd097804-4db1-488d-ba8d-fc971f9a7773",
   "metadata": {},
   "outputs": [],
   "source": []
  },
  {
   "cell_type": "code",
   "execution_count": null,
   "id": "2224c77e-3ce0-4e7f-84a8-d6a4a7a6c20f",
   "metadata": {},
   "outputs": [],
   "source": []
  },
  {
   "cell_type": "markdown",
   "id": "5f0b5531-d88c-4452-ab2a-dfefacc8f94b",
   "metadata": {},
   "source": [
    "### Class Imbalance"
   ]
  },
  {
   "cell_type": "code",
   "execution_count": 8,
   "id": "6ef60906-282e-425c-87a4-065ebacff2f5",
   "metadata": {},
   "outputs": [
    {
     "data": {
      "image/png": "[encoded data removed]",
      "text/plain": [
       "<Figure size 432x288 with 1 Axes>"
      ]
     },
     "metadata": {
      "needs_background": "light"
     },
     "output_type": "display_data"
    }
   ],
   "source": [
    "plt.figure(figsize=(6,4))\n",
    "\n",
    "default_plot = sns.countplot(x = \"default_payment\",data = train_df)\n",
    "plt.ylim(0,25000)\n",
    "total = float(len(train_df))\n",
    "for p in default_plot.patches:\n",
    "    default_plot.annotate((str(100* p.get_height()/total) + \"%\"), (p.get_x()+0.32, p.get_height()+1000), ha=\"center\")\n",
    "\n",
    "\n",
    "plt.show()\n"
   ]
  },
  {
   "cell_type": "markdown",
   "id": "0772e0a7-c072-45df-9393-adeb700ac498",
   "metadata": {},
   "source": [
    "\n",
    "The above plot shows the percentage of rows with default payment = 0 versus default payment = 1. Cleary there is class imbalance in this dataset. Because of this, we will use the area under the Receiver Operating Characterisitc curve (ROC AUC) as our primary metric to evaluate our model instead of accuracy, which tends to be missleading in cases of class imbalance. ROC AUC evalauates how good the model is as distinguishing between classes, and gives a more accurate sense of how well our model generalizes when dealing with class imbalance."
   ]
  },
  {
   "cell_type": "markdown",
   "id": "8176b231-3051-4c05-8837-d9ae05c551dc",
   "metadata": {},
   "source": [
    "### Preprossesing "
   ]
  },
  {
   "cell_type": "markdown",
   "id": "18c9d7f1-0cc9-42dc-9dd9-c27de085b06e",
   "metadata": {},
   "source": [
    "We apply scaling to numeric features to ensure the model built will be robust and not sensitive to the scale of each individual feature. To do this, we use the StandardScaler() function to set the sample mean to 0 and standard deviation to 1.\n",
    "\n",
    "To handle categorical values, we will apply one-hot-encoding. This creates binary dummy variables for each category. \n",
    "\n",
    "There are no null values in the dataset so there is no need to handle missing values. "
   ]
  },
  {
   "cell_type": "code",
   "execution_count": 9,
   "id": "fc23a969-95c1-445d-bcfc-b21e83d08211",
   "metadata": {},
   "outputs": [
    {
     "name": "stdout",
     "output_type": "stream",
     "text": [
      "<class 'pandas.core.frame.DataFrame'>\n",
      "Int64Index: 24000 entries, 14600 to 18420\n",
      "Data columns (total 25 columns):\n",
      " #   Column           Non-Null Count  Dtype\n",
      "---  ------           --------------  -----\n",
      " 0   ID               24000 non-null  int64\n",
      " 1   LIMIT_BAL        24000 non-null  int64\n",
      " 2   SEX              24000 non-null  int64\n",
      " 3   EDUCATION        24000 non-null  int64\n",
      " 4   MARRIAGE         24000 non-null  int64\n",
      " 5   AGE              24000 non-null  int64\n",
      " 6   PAY_0            24000 non-null  int64\n",
      " 7   PAY_2            24000 non-null  int64\n",
      " 8   PAY_3            24000 non-null  int64\n",
      " 9   PAY_4            24000 non-null  int64\n",
      " 10  PAY_5            24000 non-null  int64\n",
      " 11  PAY_6            24000 non-null  int64\n",
      " 12  BILL_AMT1        24000 non-null  int64\n",
      " 13  BILL_AMT2        24000 non-null  int64\n",
      " 14  BILL_AMT3        24000 non-null  int64\n",
      " 15  BILL_AMT4        24000 non-null  int64\n",
      " 16  BILL_AMT5        24000 non-null  int64\n",
      " 17  BILL_AMT6        24000 non-null  int64\n",
      " 18  PAY_AMT1         24000 non-null  int64\n",
      " 19  PAY_AMT2         24000 non-null  int64\n",
      " 20  PAY_AMT3         24000 non-null  int64\n",
      " 21  PAY_AMT4         24000 non-null  int64\n",
      " 22  PAY_AMT5         24000 non-null  int64\n",
      " 23  PAY_AMT6         24000 non-null  int64\n",
      " 24  default_payment  24000 non-null  int64\n",
      "dtypes: int64(25)\n",
      "memory usage: 5.3 MB\n"
     ]
    }
   ],
   "source": [
    "train_df.info()"
   ]
  },
  {
   "cell_type": "code",
   "execution_count": 10,
   "id": "ca59cee7-e28e-4e89-ad26-0d879413d7b9",
   "metadata": {},
   "outputs": [],
   "source": [
    "numeric_feats = [     # apply scaling\n",
    "    \"LIMIT_BAL\",\n",
    "    \"BILL_AMT1\",\n",
    "    \"BILL_AMT2\",\n",
    "    \"BILL_AMT3\",\n",
    "    \"BILL_AMT4\", \n",
    "    \"BILL_AMT5\",\n",
    "    \"BILL_AMT6\",\n",
    "    \"PAY_AMT1\",\n",
    "    \"PAY_AMT2\",\n",
    "    \"PAY_AMT3\",\n",
    "    \"PAY_AMT4\",\n",
    "    \"PAY_AMT5\",\n",
    "    \"PAY_AMT6\",\n",
    "    \"AGE\",\n",
    "]\n",
    "\n",
    "categorical_feats = [  # apply one-hot encoding\n",
    "    \"PAY_0\",\n",
    "    \"PAY_2\",\n",
    "    \"PAY_3\",\n",
    "    \"PAY_4\",\n",
    "    \"PAY_5\",\n",
    "    \"PAY_6\",\n",
    "    \"EDUCATION\",\n",
    "    \"SEX\",\n",
    "    \"MARRIAGE\",\n",
    "]"
   ]
  },
  {
   "cell_type": "markdown",
   "id": "374c15c3-ba70-4765-91fb-d4e52a3c6583",
   "metadata": {},
   "source": [
    "Next, we apply scaling and one-hot-encoding through using a column transformer, which applies the transformations to each column specified. "
   ]
  },
  {
   "cell_type": "code",
   "execution_count": 11,
   "id": "2f88c0b2-e9eb-47ac-957a-d1553892fc9c",
   "metadata": {},
   "outputs": [],
   "source": [
    "ct = make_column_transformer(\n",
    "    (StandardScaler(), numeric_feats,),\n",
    "    (OneHotEncoder(handle_unknown=\"ignore\"), categorical_feats,),\n",
    "\n",
    ")"
   ]
  },
  {
   "cell_type": "markdown",
   "id": "eb041955-6472-4178-b7c0-bfc507d4ae0f",
   "metadata": {},
   "source": [
    "### Model 0: Dummy Classifier"
   ]
  },
  {
   "cell_type": "markdown",
   "id": "8f92c184-504a-47ab-966f-2dc70da4b68b",
   "metadata": {},
   "source": [
    "Firstly, we will try a baseline model to act as a comparison measure for the final model built. Using a pipeline to do this ensures that the model is built using just the training data, and that the testing data has no influence on the model. 5-fold Cross validation is used to give a more robust measure of performance error. K-fold Cross-validation spilts the training data into k folds, and each time one fold is the validation set. Each fold fits the model on the training portion and uses one fold as a validation set to calculate a performance metric, which can be averaged to get a overall score of how well the model does. This ensures that outliers don't negatively influence the performance metric. "
   ]
  },
  {
   "cell_type": "code",
   "execution_count": 12,
   "id": "e073178f-da7b-447e-831e-58fb42f29d23",
   "metadata": {},
   "outputs": [
    {
     "data": {
      "text/html": [
       "<div>\n",
       "<style scoped>\n",
       "    .dataframe tbody tr th:only-of-type {\n",
       "        vertical-align: middle;\n",
       "    }\n",
       "\n",
       "    .dataframe tbody tr th {\n",
       "        vertical-align: top;\n",
       "    }\n",
       "\n",
       "    .dataframe thead th {\n",
       "        text-align: right;\n",
       "    }\n",
       "</style>\n",
       "<table border=\"1\" class=\"dataframe\">\n",
       "  <thead>\n",
       "    <tr style=\"text-align: right;\">\n",
       "      <th></th>\n",
       "      <th>fit_time</th>\n",
       "      <th>score_time</th>\n",
       "      <th>test_score</th>\n",
       "      <th>train_score</th>\n",
       "    </tr>\n",
       "  </thead>\n",
       "  <tbody>\n",
       "    <tr>\n",
       "      <th>0</th>\n",
       "      <td>0.080478</td>\n",
       "      <td>0.017526</td>\n",
       "      <td>0.5</td>\n",
       "      <td>0.5</td>\n",
       "    </tr>\n",
       "    <tr>\n",
       "      <th>1</th>\n",
       "      <td>0.050597</td>\n",
       "      <td>0.016266</td>\n",
       "      <td>0.5</td>\n",
       "      <td>0.5</td>\n",
       "    </tr>\n",
       "    <tr>\n",
       "      <th>2</th>\n",
       "      <td>0.060901</td>\n",
       "      <td>0.017805</td>\n",
       "      <td>0.5</td>\n",
       "      <td>0.5</td>\n",
       "    </tr>\n",
       "    <tr>\n",
       "      <th>3</th>\n",
       "      <td>0.060323</td>\n",
       "      <td>0.016340</td>\n",
       "      <td>0.5</td>\n",
       "      <td>0.5</td>\n",
       "    </tr>\n",
       "    <tr>\n",
       "      <th>4</th>\n",
       "      <td>0.055038</td>\n",
       "      <td>0.031445</td>\n",
       "      <td>0.5</td>\n",
       "      <td>0.5</td>\n",
       "    </tr>\n",
       "  </tbody>\n",
       "</table>\n",
       "</div>"
      ],
      "text/plain": [
       "   fit_time  score_time  test_score  train_score\n",
       "0  0.080478    0.017526         0.5          0.5\n",
       "1  0.050597    0.016266         0.5          0.5\n",
       "2  0.060901    0.017805         0.5          0.5\n",
       "3  0.060323    0.016340         0.5          0.5\n",
       "4  0.055038    0.031445         0.5          0.5"
      ]
     },
     "execution_count": 12,
     "metadata": {},
     "output_type": "execute_result"
    }
   ],
   "source": [
    "from sklearn.model_selection import cross_val_predict\n",
    "\n",
    "dummy = DummyClassifier()\n",
    "\n",
    "pipe = make_pipeline(ct, dummy)\n",
    "\n",
    "scores = cross_validate(pipe, X_train, y_train, return_train_score=True, cv=5, scoring=\"roc_auc\")\n",
    "scores = pd.DataFrame(scores)\n",
    "scores"
   ]
  },
  {
   "cell_type": "markdown",
   "id": "411c26c1-5db3-4489-834b-aeaee374a24f",
   "metadata": {},
   "source": [
    "### Model 1: Logistic Regression"
   ]
  },
  {
   "cell_type": "markdown",
   "id": "38b4c839-e872-4fd1-b5cc-17965225e19a",
   "metadata": {},
   "source": [
    "Next, a logistic regression model is fitted to the training data. Logistic regression uses the training data to learn coefficients, which then can be used to calculate prediction probabilities of the each class using the sigmoid function. This allows us to calculate the likelihood of a person defaulting on their credit card. The hyperparameter C is used to control the fundatamental tradeoff of bias and variance, to reduce the likeliness of the model overfitting or underfitting. "
   ]
  },
  {
   "cell_type": "code",
   "execution_count": 13,
   "id": "fad46520-8fb0-49e2-b40c-67ccab3d5914",
   "metadata": {},
   "outputs": [
    {
     "data": {
      "text/html": [
       "<div>\n",
       "<style scoped>\n",
       "    .dataframe tbody tr th:only-of-type {\n",
       "        vertical-align: middle;\n",
       "    }\n",
       "\n",
       "    .dataframe tbody tr th {\n",
       "        vertical-align: top;\n",
       "    }\n",
       "\n",
       "    .dataframe thead th {\n",
       "        text-align: right;\n",
       "    }\n",
       "</style>\n",
       "<table border=\"1\" class=\"dataframe\">\n",
       "  <thead>\n",
       "    <tr style=\"text-align: right;\">\n",
       "      <th></th>\n",
       "      <th>C</th>\n",
       "      <th>Train Scores</th>\n",
       "      <th>CV Scores</th>\n",
       "    </tr>\n",
       "  </thead>\n",
       "  <tbody>\n",
       "    <tr>\n",
       "      <th>0</th>\n",
       "      <td>0.031623</td>\n",
       "      <td>0.774474</td>\n",
       "      <td>0.770305</td>\n",
       "    </tr>\n",
       "    <tr>\n",
       "      <th>1</th>\n",
       "      <td>0.100000</td>\n",
       "      <td>0.774796</td>\n",
       "      <td>0.770089</td>\n",
       "    </tr>\n",
       "    <tr>\n",
       "      <th>2</th>\n",
       "      <td>0.316228</td>\n",
       "      <td>0.774894</td>\n",
       "      <td>0.769792</td>\n",
       "    </tr>\n",
       "    <tr>\n",
       "      <th>3</th>\n",
       "      <td>1.000000</td>\n",
       "      <td>0.774948</td>\n",
       "      <td>0.769472</td>\n",
       "    </tr>\n",
       "    <tr>\n",
       "      <th>4</th>\n",
       "      <td>3.162278</td>\n",
       "      <td>0.774984</td>\n",
       "      <td>0.769256</td>\n",
       "    </tr>\n",
       "    <tr>\n",
       "      <th>5</th>\n",
       "      <td>10.000000</td>\n",
       "      <td>0.775027</td>\n",
       "      <td>0.768879</td>\n",
       "    </tr>\n",
       "    <tr>\n",
       "      <th>6</th>\n",
       "      <td>31.622777</td>\n",
       "      <td>0.775078</td>\n",
       "      <td>0.768786</td>\n",
       "    </tr>\n",
       "  </tbody>\n",
       "</table>\n",
       "</div>"
      ],
      "text/plain": [
       "           C  Train Scores  CV Scores\n",
       "0   0.031623      0.774474   0.770305\n",
       "1   0.100000      0.774796   0.770089\n",
       "2   0.316228      0.774894   0.769792\n",
       "3   1.000000      0.774948   0.769472\n",
       "4   3.162278      0.774984   0.769256\n",
       "5  10.000000      0.775027   0.768879\n",
       "6  31.622777      0.775078   0.768786"
      ]
     },
     "execution_count": 13,
     "metadata": {},
     "output_type": "execute_result"
    }
   ],
   "source": [
    "random.seed()\n",
    "\n",
    "train_scores = []\n",
    "cv_scores = []\n",
    "\n",
    "C = 10.0 ** np.arange(-1.5, 2, 0.5)\n",
    "\n",
    "for c in C:\n",
    "    \n",
    "    pipe_lr = make_pipeline(\n",
    "    ct, \n",
    "    LogisticRegression(max_iter=1000, C=c),\n",
    "    )\n",
    "    \n",
    "    results = cross_validate(pipe_lr, X_train, y_train, return_train_score=True, scoring = \"roc_auc\")\n",
    "    \n",
    "    train_scores.append(results[\"train_score\"].mean())\n",
    "    cv_scores.append(results[\"test_score\"].mean())\n",
    "    \n",
    "\n",
    "scores = pd.DataFrame({\"C\": C, \"Train Scores\": train_scores, \"CV Scores\": cv_scores })\n",
    "\n",
    "scores\n"
   ]
  },
  {
   "cell_type": "code",
   "execution_count": 14,
   "id": "6bbab2c8-cf76-4fe7-ad49-b56fbfb19132",
   "metadata": {},
   "outputs": [
    {
     "name": "stdout",
     "output_type": "stream",
     "text": [
      "best C value: 0.03162277660168379\n"
     ]
    }
   ],
   "source": [
    "best_C = scores.loc[scores[\"CV Scores\"].idxmax(), \"C\"]\n",
    "print(\"best C value: \" + str(best_C))"
   ]
  },
  {
   "cell_type": "markdown",
   "id": "4dec8c86-163a-487d-bc23-7a1e6b225459",
   "metadata": {},
   "source": [
    "Next, the logistic regression model is fitted to the training data. The model is built using pipelines to ensure all data preprocessing is constant and that it is only built using training data. "
   ]
  },
  {
   "cell_type": "code",
   "execution_count": 15,
   "id": "c0b95fc3-5945-46bc-b383-3c004156199f",
   "metadata": {},
   "outputs": [
    {
     "data": {
      "text/plain": [
       "Pipeline(steps=[('columntransformer',\n",
       "                 ColumnTransformer(transformers=[('standardscaler',\n",
       "                                                  StandardScaler(),\n",
       "                                                  ['LIMIT_BAL', 'BILL_AMT1',\n",
       "                                                   'BILL_AMT2', 'BILL_AMT3',\n",
       "                                                   'BILL_AMT4', 'BILL_AMT5',\n",
       "                                                   'BILL_AMT6', 'PAY_AMT1',\n",
       "                                                   'PAY_AMT2', 'PAY_AMT3',\n",
       "                                                   'PAY_AMT4', 'PAY_AMT5',\n",
       "                                                   'PAY_AMT6', 'AGE']),\n",
       "                                                 ('onehotencoder',\n",
       "                                                  OneHotEncoder(handle_unknown='ignore'),\n",
       "                                                  ['PAY_0', 'PAY_2', 'PAY_3',\n",
       "                                                   'PAY_4', 'PAY_5', 'PAY_6',\n",
       "                                                   'EDUCATION', 'SEX',\n",
       "                                                   'MARRIAGE'])])),\n",
       "                ('logisticregression',\n",
       "                 LogisticRegression(C=31.622776601683793, max_iter=1000))])"
      ]
     },
     "execution_count": 15,
     "metadata": {},
     "output_type": "execute_result"
    }
   ],
   "source": [
    "model = make_pipeline(\n",
    "    ct, \n",
    "    LogisticRegression(max_iter=1000, C=c),\n",
    "    )\n",
    "\n",
    "model.fit(X_train, y_train)\n"
   ]
  },
  {
   "cell_type": "code",
   "execution_count": 17,
   "id": "2c2dfaf2-9c61-4cd1-b6d3-a63ea32ae274",
   "metadata": {},
   "outputs": [],
   "source": [
    "import eli5\n",
    "\n",
    "ohe_feature_names = (\n",
    "    model.named_steps[\"columntransformer\"]\n",
    "    .named_transformers_[\"onehotencoder\"]\n",
    "    .get_feature_names()\n",
    "    .tolist()\n",
    ")\n",
    "\n",
    "\n",
    "feat_names = (numeric_feats + ohe_feature_names)"
   ]
  },
  {
   "cell_type": "code",
   "execution_count": 24,
   "id": "52712802-542f-43f0-8864-052325769e74",
   "metadata": {},
   "outputs": [
    {
     "data": {
      "text/html": [
       "<div>\n",
       "<style scoped>\n",
       "    .dataframe tbody tr th:only-of-type {\n",
       "        vertical-align: middle;\n",
       "    }\n",
       "\n",
       "    .dataframe tbody tr th {\n",
       "        vertical-align: top;\n",
       "    }\n",
       "\n",
       "    .dataframe thead th {\n",
       "        text-align: right;\n",
       "    }\n",
       "</style>\n",
       "<table border=\"1\" class=\"dataframe\">\n",
       "  <thead>\n",
       "    <tr style=\"text-align: right;\">\n",
       "      <th></th>\n",
       "      <th>coefficient</th>\n",
       "      <th>absolute_value</th>\n",
       "    </tr>\n",
       "  </thead>\n",
       "  <tbody>\n",
       "    <tr>\n",
       "      <th>x5_8</th>\n",
       "      <td>3.364756</td>\n",
       "      <td>3.364756</td>\n",
       "    </tr>\n",
       "    <tr>\n",
       "      <th>x6_0</th>\n",
       "      <td>-2.623783</td>\n",
       "      <td>2.623783</td>\n",
       "    </tr>\n",
       "    <tr>\n",
       "      <th>x3_8</th>\n",
       "      <td>-2.612260</td>\n",
       "      <td>2.612260</td>\n",
       "    </tr>\n",
       "    <tr>\n",
       "      <th>x1_8</th>\n",
       "      <td>-2.576822</td>\n",
       "      <td>2.576822</td>\n",
       "    </tr>\n",
       "    <tr>\n",
       "      <th>x2_6</th>\n",
       "      <td>2.022844</td>\n",
       "      <td>2.022844</td>\n",
       "    </tr>\n",
       "    <tr>\n",
       "      <th>x0_8</th>\n",
       "      <td>-2.001017</td>\n",
       "      <td>2.001017</td>\n",
       "    </tr>\n",
       "    <tr>\n",
       "      <th>x2_1</th>\n",
       "      <td>-1.709028</td>\n",
       "      <td>1.709028</td>\n",
       "    </tr>\n",
       "    <tr>\n",
       "      <th>x4_8</th>\n",
       "      <td>1.480498</td>\n",
       "      <td>1.480498</td>\n",
       "    </tr>\n",
       "    <tr>\n",
       "      <th>x8_0</th>\n",
       "      <td>-1.339922</td>\n",
       "      <td>1.339922</td>\n",
       "    </tr>\n",
       "    <tr>\n",
       "      <th>x0_3</th>\n",
       "      <td>1.273492</td>\n",
       "      <td>1.273492</td>\n",
       "    </tr>\n",
       "    <tr>\n",
       "      <th>x1_7</th>\n",
       "      <td>1.253349</td>\n",
       "      <td>1.253349</td>\n",
       "    </tr>\n",
       "    <tr>\n",
       "      <th>x0_2</th>\n",
       "      <td>1.233395</td>\n",
       "      <td>1.233395</td>\n",
       "    </tr>\n",
       "    <tr>\n",
       "      <th>x0_0</th>\n",
       "      <td>-1.078528</td>\n",
       "      <td>1.078528</td>\n",
       "    </tr>\n",
       "    <tr>\n",
       "      <th>x2_8</th>\n",
       "      <td>-0.958488</td>\n",
       "      <td>0.958488</td>\n",
       "    </tr>\n",
       "    <tr>\n",
       "      <th>x1_6</th>\n",
       "      <td>0.928031</td>\n",
       "      <td>0.928031</td>\n",
       "    </tr>\n",
       "  </tbody>\n",
       "</table>\n",
       "</div>"
      ],
      "text/plain": [
       "      coefficient  absolute_value\n",
       "x5_8     3.364756        3.364756\n",
       "x6_0    -2.623783        2.623783\n",
       "x3_8    -2.612260        2.612260\n",
       "x1_8    -2.576822        2.576822\n",
       "x2_6     2.022844        2.022844\n",
       "x0_8    -2.001017        2.001017\n",
       "x2_1    -1.709028        1.709028\n",
       "x4_8     1.480498        1.480498\n",
       "x8_0    -1.339922        1.339922\n",
       "x0_3     1.273492        1.273492\n",
       "x1_7     1.253349        1.253349\n",
       "x0_2     1.233395        1.233395\n",
       "x0_0    -1.078528        1.078528\n",
       "x2_8    -0.958488        0.958488\n",
       "x1_6     0.928031        0.928031"
      ]
     },
     "execution_count": 24,
     "metadata": {},
     "output_type": "execute_result"
    }
   ],
   "source": [
    "coefs = {\n",
    "    \"coefficient\": model.named_steps[\"logisticregression\"].coef_[0].tolist(),\n",
    "    \"absolute_value\": np.absolute(\n",
    "        model.named_steps[\"logisticregression\"].coef_[0].tolist()\n",
    "    ),\n",
    "}\n",
    "df_coefs = pd.DataFrame(coefs, index=feat_names).sort_values(\n",
    "    \"absolute_value\", ascending=False\n",
    ")\n",
    "\n",
    "df_coefs[:15]"
   ]
  },
  {
   "cell_type": "code",
   "execution_count": 25,
   "id": "117cef54-eb21-4b66-8d82-22cc2b5e0c16",
   "metadata": {},
   "outputs": [
    {
     "data": {
      "text/html": [
       "\n",
       "    <style>\n",
       "    table.eli5-weights tr:hover {\n",
       "        filter: brightness(85%);\n",
       "    }\n",
       "</style>\n",
       "\n",
       "\n",
       "\n",
       "    \n",
       "\n",
       "    \n",
       "\n",
       "    \n",
       "\n",
       "    \n",
       "\n",
       "    \n",
       "\n",
       "    \n",
       "\n",
       "\n",
       "    \n",
       "\n",
       "    \n",
       "\n",
       "    \n",
       "\n",
       "    \n",
       "        \n",
       "\n",
       "    \n",
       "\n",
       "        \n",
       "            \n",
       "                \n",
       "                \n",
       "    \n",
       "        <p style=\"margin-bottom: 0.5em; margin-top: 0em\">\n",
       "            <b>\n",
       "    \n",
       "        y=1\n",
       "    \n",
       "</b>\n",
       "\n",
       "top features\n",
       "        </p>\n",
       "    \n",
       "    <table class=\"eli5-weights\"\n",
       "           style=\"border-collapse: collapse; border: none; margin-top: 0em; table-layout: auto; margin-bottom: 2em;\">\n",
       "        <thead>\n",
       "        <tr style=\"border: none;\">\n",
       "            \n",
       "                <th style=\"padding: 0 1em 0 0.5em; text-align: right; border: none;\" title=\"Feature weights. Note that weights do not account for feature value scales, so if feature values have different scales, features with highest weights might not be the most important.\">\n",
       "                    Weight<sup>?</sup>\n",
       "                </th>\n",
       "            \n",
       "            <th style=\"padding: 0 0.5em 0 0.5em; text-align: left; border: none;\">Feature</th>\n",
       "            \n",
       "        </tr>\n",
       "        </thead>\n",
       "        <tbody>\n",
       "        \n",
       "            <tr style=\"background-color: hsl(120, 100.00%, 80.00%); border: none;\">\n",
       "    <td style=\"padding: 0 1em 0 0.5em; text-align: right; border: none;\">\n",
       "        +3.365\n",
       "    </td>\n",
       "    <td style=\"padding: 0 0.5em 0 0.5em; text-align: left; border: none;\">\n",
       "        x5_8\n",
       "    </td>\n",
       "    \n",
       "</tr>\n",
       "        \n",
       "            <tr style=\"background-color: hsl(120, 100.00%, 85.99%); border: none;\">\n",
       "    <td style=\"padding: 0 1em 0 0.5em; text-align: right; border: none;\">\n",
       "        +2.023\n",
       "    </td>\n",
       "    <td style=\"padding: 0 0.5em 0 0.5em; text-align: left; border: none;\">\n",
       "        x2_6\n",
       "    </td>\n",
       "    \n",
       "</tr>\n",
       "        \n",
       "            <tr style=\"background-color: hsl(120, 100.00%, 88.74%); border: none;\">\n",
       "    <td style=\"padding: 0 1em 0 0.5em; text-align: right; border: none;\">\n",
       "        +1.480\n",
       "    </td>\n",
       "    <td style=\"padding: 0 0.5em 0 0.5em; text-align: left; border: none;\">\n",
       "        x4_8\n",
       "    </td>\n",
       "    \n",
       "</tr>\n",
       "        \n",
       "            <tr style=\"background-color: hsl(120, 100.00%, 89.87%); border: none;\">\n",
       "    <td style=\"padding: 0 1em 0 0.5em; text-align: right; border: none;\">\n",
       "        +1.273\n",
       "    </td>\n",
       "    <td style=\"padding: 0 0.5em 0 0.5em; text-align: left; border: none;\">\n",
       "        x0_3\n",
       "    </td>\n",
       "    \n",
       "</tr>\n",
       "        \n",
       "            <tr style=\"background-color: hsl(120, 100.00%, 89.98%); border: none;\">\n",
       "    <td style=\"padding: 0 1em 0 0.5em; text-align: right; border: none;\">\n",
       "        +1.253\n",
       "    </td>\n",
       "    <td style=\"padding: 0 0.5em 0 0.5em; text-align: left; border: none;\">\n",
       "        x1_7\n",
       "    </td>\n",
       "    \n",
       "</tr>\n",
       "        \n",
       "            <tr style=\"background-color: hsl(120, 100.00%, 90.09%); border: none;\">\n",
       "    <td style=\"padding: 0 1em 0 0.5em; text-align: right; border: none;\">\n",
       "        +1.233\n",
       "    </td>\n",
       "    <td style=\"padding: 0 0.5em 0 0.5em; text-align: left; border: none;\">\n",
       "        x0_2\n",
       "    </td>\n",
       "    \n",
       "</tr>\n",
       "        \n",
       "            <tr style=\"background-color: hsl(120, 100.00%, 91.88%); border: none;\">\n",
       "    <td style=\"padding: 0 1em 0 0.5em; text-align: right; border: none;\">\n",
       "        +0.928\n",
       "    </td>\n",
       "    <td style=\"padding: 0 0.5em 0 0.5em; text-align: left; border: none;\">\n",
       "        x1_6\n",
       "    </td>\n",
       "    \n",
       "</tr>\n",
       "        \n",
       "            <tr style=\"background-color: hsl(120, 100.00%, 92.07%); border: none;\">\n",
       "    <td style=\"padding: 0 1em 0 0.5em; text-align: right; border: none;\">\n",
       "        +0.897\n",
       "    </td>\n",
       "    <td style=\"padding: 0 0.5em 0 0.5em; text-align: left; border: none;\">\n",
       "        x3_7\n",
       "    </td>\n",
       "    \n",
       "</tr>\n",
       "        \n",
       "            <tr style=\"background-color: hsl(120, 100.00%, 92.43%); border: none;\">\n",
       "    <td style=\"padding: 0 1em 0 0.5em; text-align: right; border: none;\">\n",
       "        +0.840\n",
       "    </td>\n",
       "    <td style=\"padding: 0 0.5em 0 0.5em; text-align: left; border: none;\">\n",
       "        x1_5\n",
       "    </td>\n",
       "    \n",
       "</tr>\n",
       "        \n",
       "        \n",
       "            <tr style=\"background-color: hsl(120, 100.00%, 92.43%); border: none;\">\n",
       "                <td colspan=\"2\" style=\"padding: 0 0.5em 0 0.5em; text-align: center; border: none; white-space: nowrap;\">\n",
       "                    <i>&hellip; 31 more positive &hellip;</i>\n",
       "                </td>\n",
       "            </tr>\n",
       "        \n",
       "\n",
       "        \n",
       "            <tr style=\"background-color: hsl(0, 100.00%, 92.57%); border: none;\">\n",
       "                <td colspan=\"2\" style=\"padding: 0 0.5em 0 0.5em; text-align: center; border: none; white-space: nowrap;\">\n",
       "                    <i>&hellip; 40 more negative &hellip;</i>\n",
       "                </td>\n",
       "            </tr>\n",
       "        \n",
       "        \n",
       "            <tr style=\"background-color: hsl(0, 100.00%, 92.57%); border: none;\">\n",
       "    <td style=\"padding: 0 1em 0 0.5em; text-align: right; border: none;\">\n",
       "        -0.817\n",
       "    </td>\n",
       "    <td style=\"padding: 0 0.5em 0 0.5em; text-align: left; border: none;\">\n",
       "        x1_4\n",
       "    </td>\n",
       "    \n",
       "</tr>\n",
       "        \n",
       "            <tr style=\"background-color: hsl(0, 100.00%, 92.49%); border: none;\">\n",
       "    <td style=\"padding: 0 1em 0 0.5em; text-align: right; border: none;\">\n",
       "        -0.831\n",
       "    </td>\n",
       "    <td style=\"padding: 0 0.5em 0 0.5em; text-align: left; border: none;\">\n",
       "        x5_0\n",
       "    </td>\n",
       "    \n",
       "</tr>\n",
       "        \n",
       "            <tr style=\"background-color: hsl(0, 100.00%, 92.15%); border: none;\">\n",
       "    <td style=\"padding: 0 1em 0 0.5em; text-align: right; border: none;\">\n",
       "        -0.885\n",
       "    </td>\n",
       "    <td style=\"padding: 0 0.5em 0 0.5em; text-align: left; border: none;\">\n",
       "        &lt;BIAS&gt;\n",
       "    </td>\n",
       "    \n",
       "</tr>\n",
       "        \n",
       "            <tr style=\"background-color: hsl(0, 100.00%, 91.70%); border: none;\">\n",
       "    <td style=\"padding: 0 1em 0 0.5em; text-align: right; border: none;\">\n",
       "        -0.958\n",
       "    </td>\n",
       "    <td style=\"padding: 0 0.5em 0 0.5em; text-align: left; border: none;\">\n",
       "        x2_8\n",
       "    </td>\n",
       "    \n",
       "</tr>\n",
       "        \n",
       "            <tr style=\"background-color: hsl(0, 100.00%, 90.98%); border: none;\">\n",
       "    <td style=\"padding: 0 1em 0 0.5em; text-align: right; border: none;\">\n",
       "        -1.079\n",
       "    </td>\n",
       "    <td style=\"padding: 0 0.5em 0 0.5em; text-align: left; border: none;\">\n",
       "        x0_0\n",
       "    </td>\n",
       "    \n",
       "</tr>\n",
       "        \n",
       "            <tr style=\"background-color: hsl(0, 100.00%, 89.50%); border: none;\">\n",
       "    <td style=\"padding: 0 1em 0 0.5em; text-align: right; border: none;\">\n",
       "        -1.340\n",
       "    </td>\n",
       "    <td style=\"padding: 0 0.5em 0 0.5em; text-align: left; border: none;\">\n",
       "        x8_0\n",
       "    </td>\n",
       "    \n",
       "</tr>\n",
       "        \n",
       "            <tr style=\"background-color: hsl(0, 100.00%, 87.55%); border: none;\">\n",
       "    <td style=\"padding: 0 1em 0 0.5em; text-align: right; border: none;\">\n",
       "        -1.709\n",
       "    </td>\n",
       "    <td style=\"padding: 0 0.5em 0 0.5em; text-align: left; border: none;\">\n",
       "        x2_1\n",
       "    </td>\n",
       "    \n",
       "</tr>\n",
       "        \n",
       "            <tr style=\"background-color: hsl(0, 100.00%, 86.10%); border: none;\">\n",
       "    <td style=\"padding: 0 1em 0 0.5em; text-align: right; border: none;\">\n",
       "        -2.001\n",
       "    </td>\n",
       "    <td style=\"padding: 0 0.5em 0 0.5em; text-align: left; border: none;\">\n",
       "        x0_8\n",
       "    </td>\n",
       "    \n",
       "</tr>\n",
       "        \n",
       "            <tr style=\"background-color: hsl(0, 100.00%, 83.41%); border: none;\">\n",
       "    <td style=\"padding: 0 1em 0 0.5em; text-align: right; border: none;\">\n",
       "        -2.577\n",
       "    </td>\n",
       "    <td style=\"padding: 0 0.5em 0 0.5em; text-align: left; border: none;\">\n",
       "        x1_8\n",
       "    </td>\n",
       "    \n",
       "</tr>\n",
       "        \n",
       "            <tr style=\"background-color: hsl(0, 100.00%, 83.25%); border: none;\">\n",
       "    <td style=\"padding: 0 1em 0 0.5em; text-align: right; border: none;\">\n",
       "        -2.612\n",
       "    </td>\n",
       "    <td style=\"padding: 0 0.5em 0 0.5em; text-align: left; border: none;\">\n",
       "        x3_8\n",
       "    </td>\n",
       "    \n",
       "</tr>\n",
       "        \n",
       "            <tr style=\"background-color: hsl(0, 100.00%, 83.20%); border: none;\">\n",
       "    <td style=\"padding: 0 1em 0 0.5em; text-align: right; border: none;\">\n",
       "        -2.624\n",
       "    </td>\n",
       "    <td style=\"padding: 0 0.5em 0 0.5em; text-align: left; border: none;\">\n",
       "        x6_0\n",
       "    </td>\n",
       "    \n",
       "</tr>\n",
       "        \n",
       "\n",
       "        </tbody>\n",
       "    </table>\n",
       "\n",
       "            \n",
       "        \n",
       "\n",
       "        \n",
       "\n",
       "\n",
       "\n",
       "    \n",
       "\n",
       "    \n",
       "\n",
       "    \n",
       "\n",
       "    \n",
       "\n",
       "\n",
       "    \n",
       "\n",
       "    \n",
       "\n",
       "    \n",
       "\n",
       "    \n",
       "\n",
       "    \n",
       "\n",
       "    \n",
       "\n",
       "\n",
       "    \n",
       "\n",
       "    \n",
       "\n",
       "    \n",
       "\n",
       "    \n",
       "\n",
       "    \n",
       "\n",
       "    \n",
       "\n",
       "\n",
       "\n"
      ],
      "text/plain": [
       "Explanation(estimator='LogisticRegression(C=31.622776601683793, max_iter=1000)', description=\"\\nFeatures with largest coefficients.\\nCaveats:\\n1. Be careful with features which are not\\n   independent - weights don't show their importance.\\n2. If scale of input features is different then scale of coefficients\\n   will also be different, making direct comparison between coefficient values\\n   incorrect.\\n3. Depending on regularization, rare features sometimes may have high\\n   coefficients; this doesn't mean they contribute much to the\\n   classification result for most examples.\\n\", error=None, method='linear model', is_regression=False, targets=[TargetExplanation(target=1, feature_weights=FeatureWeights(pos=[FeatureWeight(feature='x5_8', weight=3.3647559666319893, std=None, value=None), FeatureWeight(feature='x2_6', weight=2.02284370447999, std=None, value=None), FeatureWeight(feature='x4_8', weight=1.4804979047519593, std=None, value=None), FeatureWeight(feature='x0_3', weight=1.2734916314746687, std=None, value=None), FeatureWeight(feature='x1_7', weight=1.2533488272021134, std=None, value=None), FeatureWeight(feature='x0_2', weight=1.2333949471020913, std=None, value=None), FeatureWeight(feature='x1_6', weight=0.9280311949035454, std=None, value=None), FeatureWeight(feature='x3_7', weight=0.8969248052253298, std=None, value=None), FeatureWeight(feature='x1_5', weight=0.839529922404816, std=None, value=None)], neg=[FeatureWeight(feature='x6_0', weight=-2.623783168688693, std=None, value=None), FeatureWeight(feature='x3_8', weight=-2.6122597587225513, std=None, value=None), FeatureWeight(feature='x1_8', weight=-2.5768221494646824, std=None, value=None), FeatureWeight(feature='x0_8', weight=-2.0010172904834707, std=None, value=None), FeatureWeight(feature='x2_1', weight=-1.7090275810921973, std=None, value=None), FeatureWeight(feature='x8_0', weight=-1.3399219630659573, std=None, value=None), FeatureWeight(feature='x0_0', weight=-1.078527631694906, std=None, value=None), FeatureWeight(feature='x2_8', weight=-0.9584878108125441, std=None, value=None), FeatureWeight(feature='<BIAS>', weight=-0.8851093896986016, std=None, value=None), FeatureWeight(feature='x5_0', weight=-0.8305671324666426, std=None, value=None), FeatureWeight(feature='x1_4', weight=-0.8169616224848991, std=None, value=None)], pos_remaining=31, neg_remaining=40), proba=None, score=None, weighted_spans=None, heatmap=None)], feature_importances=None, decision_tree=None, highlight_spaces=None, transition_features=None, image=None)"
      ]
     },
     "execution_count": 25,
     "metadata": {},
     "output_type": "execute_result"
    }
   ],
   "source": [
    "eli5.explain_weights(\n",
    "    model.named_steps[\"logisticregression\"], feature_names=feat_names\n",
    ")"
   ]
  },
  {
   "cell_type": "markdown",
   "id": "74c4f4d9-bcbc-4dba-a03f-3e9e29e991a1",
   "metadata": {},
   "source": [
    "Looking at feature importance, it appears that repayment status in May 2005 with a payment delay for 8 months is the most important feature since it has the highest magnitude. The next important feature is repayment status in April 2005, with a 6 month delay. It makes sense that these features are important considering that if someone has delayed payment for months, then they are more likely to default the next month. "
   ]
  },
  {
   "cell_type": "markdown",
   "id": "b09c08bd-2f1a-410d-a0d3-5772d7a1a842",
   "metadata": {},
   "source": [
    "### Testing the Model"
   ]
  },
  {
   "cell_type": "markdown",
   "id": "871883ac-ca95-4d1b-a4d1-9307e3b464f9",
   "metadata": {},
   "source": [
    "Finally, the model will be evaluated by predicting on the test dataset. Performance metrics including area under the ROC curve, f1-score, precision and recall will be calculated. "
   ]
  },
  {
   "cell_type": "code",
   "execution_count": 37,
   "id": "61307571-f92f-45bc-8b32-b645317678ef",
   "metadata": {},
   "outputs": [
    {
     "data": {
      "image/png": "[encoded data removed]",
      "text/plain": [
       "<Figure size 432x288 with 1 Axes>"
      ]
     },
     "metadata": {
      "needs_background": "light"
     },
     "output_type": "display_data"
    }
   ],
   "source": [
    "\n",
    "from sklearn.metrics import roc_curve\n",
    "from sklearn.metrics import roc_auc_score\n",
    "\n",
    "# prediction probabilities on test set \n",
    "lr_prob = model.predict_proba(X_test)[:,1]\n",
    "\n",
    "# roc_auc score on test set \n",
    "roc_lr = roc_auc_score(y_test, lr_prob)\n",
    "\n",
    "roc_lr = round(roc_lr, 4)\n",
    "\n",
    "auc_label = \"AUC is \" + str(roc_lr)\n",
    "\n",
    "plt.plot(fpr, tpr, label=\"ROC Curve\")\n",
    "plt.xlabel(\"FPR\")\n",
    "plt.ylabel(\"TPR (recall)\")\n",
    "plt.fill_between(fpr, tpr, color='blue', alpha=0.2, label=auc_label)\n",
    "\n",
    "plt.legend(loc=\"best\");"
   ]
  },
  {
   "cell_type": "markdown",
   "id": "a305e365-c6fd-4b66-a95f-7d23b22ee014",
   "metadata": {},
   "source": [
    "The test ROC AUC is almost the same as the cross-validation ROC AUC so we can conclude that there is little optimization bias and we are not overfitting. Area under the ROC curve is the classifier's ability to distinguish between classes. So 76% of the time, the model is able to correctly distinguish between class 0 and class 1. "
   ]
  },
  {
   "cell_type": "code",
   "execution_count": 32,
   "id": "fd6579b5-87bd-4fcf-8db6-a55738a61e74",
   "metadata": {},
   "outputs": [
    {
     "name": "stdout",
     "output_type": "stream",
     "text": [
      "              precision    recall  f1-score   support\n",
      "\n",
      " non-default       0.84      0.95      0.89      4712\n",
      "     default       0.67      0.34      0.45      1288\n",
      "\n",
      "    accuracy                           0.82      6000\n",
      "   macro avg       0.75      0.65      0.67      6000\n",
      "weighted avg       0.80      0.82      0.80      6000\n",
      "\n"
     ]
    }
   ],
   "source": [
    "predict = model.predict(X_test)\n",
    "\n",
    "res = classification_report(\n",
    "        y_test, predict, target_names=[\"non-default\", \"default\"]\n",
    "    )\n",
    "\n",
    "print(res)"
   ]
  },
  {
   "cell_type": "code",
   "execution_count": 38,
   "id": "bbadb039-758d-4e8c-b919-1f8cbc55cabc",
   "metadata": {},
   "outputs": [
    {
     "data": {
      "image/png": "[encoded data removed]",
      "text/plain": [
       "<Figure size 432x288 with 2 Axes>"
      ]
     },
     "metadata": {
      "needs_background": "light"
     },
     "output_type": "display_data"
    }
   ],
   "source": [
    "plot_confusion_matrix(\n",
    "    model,\n",
    "    X_test,\n",
    "    y_test,\n",
    "    display_labels=[\"Non default\", \"default\"],\n",
    "    values_format=\"d\",\n",
    "    cmap=plt.cm.Blues,\n",
    ");\n"
   ]
  },
  {
   "cell_type": "markdown",
   "id": "698732da-3bae-4656-bc5d-def6044ffbaa",
   "metadata": {},
   "source": [
    "It appears that the model does significantly better for the non-default class, since precision, recall, and f1-score are very high. Recall is partically low for the default class. "
   ]
  },
  {
   "cell_type": "markdown",
   "id": "1f93538a-e803-4798-836b-a85c0fdb45de",
   "metadata": {},
   "source": []
  },
  {
   "cell_type": "code",
   "execution_count": null,
   "id": "f0291bd1-b2f5-49cc-902d-ade9707924d8",
   "metadata": {},
   "outputs": [],
   "source": []
  }
 ],
 "metadata": {
  "kernelspec": {
   "display_name": "Python [conda env:cpsc330]",
   "language": "python",
   "name": "conda-env-cpsc330-py"
  },
  "language_info": {
   "codemirror_mode": {
    "name": "ipython",
    "version": 3
   },
   "file_extension": ".py",
   "mimetype": "text/x-python",
   "name": "python",
   "nbconvert_exporter": "python",
   "pygments_lexer": "ipython3",
   "version": "3.9.7"
  }
 },
 "nbformat": 4,
 "nbformat_minor": 5
}
